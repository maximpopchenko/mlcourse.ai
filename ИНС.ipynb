{
  "nbformat": 4,
  "nbformat_minor": 0,
  "metadata": {
    "colab": {
      "provenance": [],
      "toc_visible": true,
      "include_colab_link": true
    },
    "kernelspec": {
      "display_name": "Python 3",
      "language": "python",
      "name": "python3"
    },
    "language_info": {
      "codemirror_mode": {
        "name": "ipython",
        "version": 3
      },
      "file_extension": ".py",
      "mimetype": "text/x-python",
      "name": "python",
      "nbconvert_exporter": "python",
      "pygments_lexer": "ipython3",
      "version": "3.6.8"
    }
  },
  "cells": [
    {
      "cell_type": "markdown",
      "metadata": {
        "id": "view-in-github",
        "colab_type": "text"
      },
      "source": [
        "<a href=\"https://colab.research.google.com/github/maximpopchenko/mlcourse.ai/blob/master/%D0%98%D0%9D%D0%A1.ipynb\" target=\"_parent\"><img src=\"https://colab.research.google.com/assets/colab-badge.svg\" alt=\"Open In Colab\"/></a>"
      ]
    },
    {
      "cell_type": "markdown",
      "metadata": {
        "id": "y1FWR90xxpSl"
      },
      "source": [
        "# Первая нейронная сеть на Keras\n",
        "\n",
        "<img src='https://media.giphy.com/media/7HAm2aWDviqeQ/giphy.gif'>"
      ]
    },
    {
      "cell_type": "markdown",
      "source": [
        "Сегодня обсудим:\n",
        "1. Как создать нейронную сеть в Keras\n",
        "2. Как обучить нейронную сеть в Keras\n",
        "\n",
        "\n",
        "И сегодня обучим три нейронные сети для решения задач:\n",
        "1. Нейрон для умножения\n",
        "2. Нейросеть для сложения\n",
        "3. Нейросеть для классификации изображений"
      ],
      "metadata": {
        "id": "lsgGTfpbH4-M"
      }
    },
    {
      "cell_type": "markdown",
      "source": [
        "Давайте создадим нейронную сеть, состоящую из одного нейрона.\n",
        "\n",
        "\n",
        "<img src='https://drive.google.com/uc?id=1Qx71h2FmXS6uKHmhcIKtp49G5nqMncWK'>"
      ],
      "metadata": {
        "id": "J2IRbGvlGxbK"
      }
    },
    {
      "cell_type": "markdown",
      "source": [
        "- `Sequential` - это класс последовательности слоев в нейронной сети, у нас пока будет только один слой, но сюда можно добавлять сколь угодно слоев и это будет сеть, состоящая из последовательности слоев.\n",
        "- `Dense` - это класс полносвязного/линейного слоя, все нейроны связаны друг с другом.\n",
        "- `units=1` - это количество нейронов в слое. У нас 1 нейрон.\n",
        "- `input_shape=(1,)` - это входная размерность объекта. У нас только 1 вход.\n",
        "- `activation='relu'` - это функция активации, которая добавляет в слой нелинейности, именно из-за неё мы можем получать более сложные результаты работы сети."
      ],
      "metadata": {
        "id": "ZctkOCawG3hi"
      }
    },
    {
      "cell_type": "code",
      "source": [
        "from keras.layers import Dense\n",
        "from keras.models import Sequential\n",
        "\n",
        "model = Sequential([\n",
        "    Dense(1, input_shape=(1,), activation='relu')\n",
        "])\n",
        "\n",
        "model.summary()"
      ],
      "metadata": {
        "colab": {
          "base_uri": "https://localhost:8080/"
        },
        "id": "fg5zrnfNG1QN",
        "outputId": "acc7ee3e-e6b3-4648-b439-40e8e78bed52"
      },
      "execution_count": null,
      "outputs": [
        {
          "output_type": "stream",
          "name": "stdout",
          "text": [
            "Model: \"sequential\"\n",
            "_________________________________________________________________\n",
            " Layer (type)                Output Shape              Param #   \n",
            "=================================================================\n",
            " dense (Dense)               (None, 1)                 2         \n",
            "                                                                 \n",
            "=================================================================\n",
            "Total params: 2\n",
            "Trainable params: 2\n",
            "Non-trainable params: 0\n",
            "_________________________________________________________________\n"
          ]
        }
      ]
    },
    {
      "cell_type": "code",
      "source": [
        "model.get_weights()"
      ],
      "metadata": {
        "colab": {
          "base_uri": "https://localhost:8080/"
        },
        "id": "SEDpFNBmHvcd",
        "outputId": "af5ab069-42e3-41c3-b92d-d62dd6a44caf"
      },
      "execution_count": null,
      "outputs": [
        {
          "output_type": "execute_result",
          "data": {
            "text/plain": [
              "[array([[0.6265961]], dtype=float32), array([0.], dtype=float32)]"
            ]
          },
          "metadata": {},
          "execution_count": 2
        }
      ]
    },
    {
      "cell_type": "markdown",
      "source": [
        "Инициализация весов всегда разная, если её не зафиксировать:\n",
        "\n",
        "\n",
        "\n",
        "```\n",
        "# for reproducible weights initialization\n",
        "import tensorflow as tf\n",
        "tf.random.set_seed(1)\n",
        "```\n",
        "\n"
      ],
      "metadata": {
        "id": "zEKtGvqcGcNn"
      }
    },
    {
      "cell_type": "code",
      "source": [
        "import tensorflow as tf\n",
        "tf.random.set_seed(1)\n",
        "\n",
        "model = Sequential([\n",
        "    Dense(1, input_shape=(1,), activation='relu')\n",
        "])\n",
        "\n",
        "model.get_weights()"
      ],
      "metadata": {
        "colab": {
          "base_uri": "https://localhost:8080/"
        },
        "id": "2AuwJQvyHzEc",
        "outputId": "5fd9fdac-ee6d-4670-cd8f-058a8643817b"
      },
      "execution_count": null,
      "outputs": [
        {
          "output_type": "execute_result",
          "data": {
            "text/plain": [
              "[array([[-1.1600207]], dtype=float32), array([0.], dtype=float32)]"
            ]
          },
          "metadata": {},
          "execution_count": 3
        }
      ]
    },
    {
      "cell_type": "markdown",
      "source": [
        "## Нейрон для умножения на 3"
      ],
      "metadata": {
        "id": "mfZ3eFidSbo2"
      }
    },
    {
      "cell_type": "markdown",
      "source": [
        "Создадим обучающие данные"
      ],
      "metadata": {
        "id": "d9UDd0y8TbJV"
      }
    },
    {
      "cell_type": "code",
      "source": [
        "import numpy as np\n",
        "\n",
        "X = np.array([[1], [3], [2], [10], [4], [7], [8]])\n",
        "y = np.array([[3, 9, 6, 30, 12, 21, 24]]).T"
      ],
      "metadata": {
        "id": "aMwK0J81-AJ9"
      },
      "execution_count": null,
      "outputs": []
    },
    {
      "cell_type": "markdown",
      "source": [
        "Для того, что обучить нейронную сеть для любой задачи нужно ответить на три вопроса:\n",
        "1. Какая архитектура сети?\n",
        "2. Что оптимизируем?\n",
        "3. Как обучаем?"
      ],
      "metadata": {
        "id": "St5r8CNRWLfZ"
      }
    },
    {
      "cell_type": "markdown",
      "source": [
        "### Какая архитектура сети"
      ],
      "metadata": {
        "id": "0Pq6_oM6WhM5"
      }
    },
    {
      "cell_type": "markdown",
      "source": [
        "Создадим сеть, она очень простая, состоит из одного слоя и одного нейрона.\n",
        "\n",
        "<img src='https://drive.google.com/uc?id=1Qx71h2FmXS6uKHmhcIKtp49G5nqMncWK'>"
      ],
      "metadata": {
        "id": "zPr5AmvYTexL"
      }
    },
    {
      "cell_type": "code",
      "source": [
        "from keras.layers import Dense\n",
        "from keras.models import Sequential\n",
        "\n",
        "model = Sequential([\n",
        "    Dense(1, input_shape=(1,), activation='linear')\n",
        "])\n",
        "\n",
        "model.summary()"
      ],
      "metadata": {
        "colab": {
          "base_uri": "https://localhost:8080/"
        },
        "id": "c6UWgSx29ohw",
        "outputId": "6b90bdf0-ef12-4a92-c0c8-80545dabb525"
      },
      "execution_count": null,
      "outputs": [
        {
          "output_type": "stream",
          "name": "stdout",
          "text": [
            "Model: \"sequential_8\"\n",
            "_________________________________________________________________\n",
            " Layer (type)                Output Shape              Param #   \n",
            "=================================================================\n",
            " dense_8 (Dense)             (None, 1)                 2         \n",
            "                                                                 \n",
            "=================================================================\n",
            "Total params: 2\n",
            "Trainable params: 2\n",
            "Non-trainable params: 0\n",
            "_________________________________________________________________\n"
          ]
        }
      ]
    },
    {
      "cell_type": "markdown",
      "source": [
        "Весов у нас выходит две штуки, это вышло из-за того, что для каждого нейрона в линейном слое есть отклонение (bias). На самом деле один нейрон в линейном слое - это линейная регрессия, поэтому если хотите чуть лучше понимать устройство одного нейрона советую посмотреть это [видео](https://youtu.be/KJA9A1q9l7E).\n",
        "\n",
        "<img src='https://drive.google.com/uc?id=1woqEhElyJSslX_3-4HYdziFLOoi2u2s1'>"
      ],
      "metadata": {
        "id": "3CmqQUDHUZHX"
      }
    },
    {
      "cell_type": "code",
      "source": [
        "w1, w0 = model.get_weights()\n",
        "w1, w0"
      ],
      "metadata": {
        "colab": {
          "base_uri": "https://localhost:8080/"
        },
        "id": "-PuvdE1UBybd",
        "outputId": "c3854f39-352e-4e1f-9769-75bc1bac7bac"
      },
      "execution_count": null,
      "outputs": [
        {
          "output_type": "execute_result",
          "data": {
            "text/plain": [
              "(array([[-0.70081437]], dtype=float32), array([0.], dtype=float32))"
            ]
          },
          "metadata": {},
          "execution_count": 13
        }
      ]
    },
    {
      "cell_type": "markdown",
      "source": [
        "Теперь сделаем предсказание этой моделью на одном объекте."
      ],
      "metadata": {
        "id": "dggCf3ulVz6Q"
      }
    },
    {
      "cell_type": "code",
      "source": [
        "X[:1]"
      ],
      "metadata": {
        "colab": {
          "base_uri": "https://localhost:8080/"
        },
        "id": "jPPywzv7Efft",
        "outputId": "f510b1f9-63fe-4c20-fac4-1bff779d364d"
      },
      "execution_count": null,
      "outputs": [
        {
          "output_type": "execute_result",
          "data": {
            "text/plain": [
              "array([[1]])"
            ]
          },
          "metadata": {},
          "execution_count": 14
        }
      ]
    },
    {
      "cell_type": "markdown",
      "source": [
        "Предсказание получается очень далекими от истины, потому что сеть еще не знает, для чего её создали."
      ],
      "metadata": {
        "id": "kuozFM1FV4p4"
      }
    },
    {
      "cell_type": "code",
      "source": [
        "model.predict(X[:1])"
      ],
      "metadata": {
        "colab": {
          "base_uri": "https://localhost:8080/"
        },
        "id": "t3LOGp6aB7re",
        "outputId": "cb0a6d70-88f2-49b8-a704-df108da8c9e5"
      },
      "execution_count": null,
      "outputs": [
        {
          "output_type": "execute_result",
          "data": {
            "text/plain": [
              "array([[-0.70081437]], dtype=float32)"
            ]
          },
          "metadata": {},
          "execution_count": 15
        }
      ]
    },
    {
      "cell_type": "code",
      "source": [
        "w1 * X[:1] + w0"
      ],
      "metadata": {
        "colab": {
          "base_uri": "https://localhost:8080/"
        },
        "id": "bGLbADogCGHa",
        "outputId": "54e87615-655c-4485-ef33-27b393099660"
      },
      "execution_count": null,
      "outputs": [
        {
          "output_type": "execute_result",
          "data": {
            "text/plain": [
              "array([[-0.70081437]])"
            ]
          },
          "metadata": {},
          "execution_count": 16
        }
      ]
    },
    {
      "cell_type": "code",
      "source": [
        "from keras.activations import linear\n",
        "linear(w1 * X[:1] + w0)"
      ],
      "metadata": {
        "colab": {
          "base_uri": "https://localhost:8080/"
        },
        "id": "m5czkuSECNEi",
        "outputId": "7233101c-3bea-4af3-87e6-2149ecdf623d"
      },
      "execution_count": null,
      "outputs": [
        {
          "output_type": "execute_result",
          "data": {
            "text/plain": [
              "array([[-0.70081437]])"
            ]
          },
          "metadata": {},
          "execution_count": 18
        }
      ]
    },
    {
      "cell_type": "markdown",
      "source": [
        "### Что оптимизируем\n",
        "\n",
        "У нас задача регрессии, поэтому будем брать функцию потерь для этой задачи, к примеру MSE.\n",
        "\n",
        "Вдобавок можно взять еще и метрику, которую будем считать и понимать, обучается ли сеть.\n",
        "\n",
        "Если хочется повспомнинать метрики для задачи регрессии, то посмотрите это [видео](https://youtu.be/vh2smjQyhp8).\n",
        "\n",
        "<img src='https://drive.google.com/uc?id=1T2Q_-kpdKeuE7T6mdypH9lZhNvs6Wrmn'>"
      ],
      "metadata": {
        "id": "JbFIQGjDWGbM"
      }
    },
    {
      "cell_type": "markdown",
      "source": [
        "### Как оптимизируем\n",
        "\n",
        "Про этот вопрос будем более подробно говорить в следующих занятиях, но пока условимся, что оптимизатор помогает ошибке быстрее уменьшаться, а значит помогает сеть быстрее обучаться.\n",
        "\n",
        "Есть несколько видов оптимизаторов, тот же градиентный спуск - это один из методов оптимизации для нейронной сети."
      ],
      "metadata": {
        "id": "3M3OUOvZXMXV"
      }
    },
    {
      "cell_type": "code",
      "source": [
        "model.compile(optimizer='sgd', loss='mse', metrics='mae')"
      ],
      "metadata": {
        "id": "L_ywc5J7-0r3"
      },
      "execution_count": null,
      "outputs": []
    },
    {
      "cell_type": "code",
      "source": [
        "%%time\n",
        "model.fit(X, y, epochs=100)"
      ],
      "metadata": {
        "colab": {
          "base_uri": "https://localhost:8080/"
        },
        "id": "x6yykPl4-2MQ",
        "outputId": "ed0440e6-b8c8-4f93-dfce-5018744e050d"
      },
      "execution_count": null,
      "outputs": [
        {
          "output_type": "stream",
          "name": "stdout",
          "text": [
            "Epoch 1/100\n",
            "1/1 [==============================] - 1s 513ms/step - loss: 475.4478 - mae: 18.5041\n",
            "Epoch 2/100\n",
            "1/1 [==============================] - 0s 8ms/step - loss: 40.3858 - mae: 5.2869\n",
            "Epoch 3/100\n",
            "1/1 [==============================] - 0s 9ms/step - loss: 3.4938 - mae: 1.4652\n",
            "Epoch 4/100\n",
            "1/1 [==============================] - 0s 9ms/step - loss: 0.3648 - mae: 0.4689\n",
            "Epoch 5/100\n",
            "1/1 [==============================] - 0s 13ms/step - loss: 0.0987 - mae: 0.2890\n",
            "Epoch 6/100\n",
            "1/1 [==============================] - 0s 10ms/step - loss: 0.0754 - mae: 0.2485\n",
            "Epoch 7/100\n",
            "1/1 [==============================] - 0s 11ms/step - loss: 0.0727 - mae: 0.2358\n",
            "Epoch 8/100\n",
            "1/1 [==============================] - 0s 15ms/step - loss: 0.0718 - mae: 0.2312\n",
            "Epoch 9/100\n",
            "1/1 [==============================] - 0s 9ms/step - loss: 0.0710 - mae: 0.2290\n",
            "Epoch 10/100\n",
            "1/1 [==============================] - 0s 10ms/step - loss: 0.0702 - mae: 0.2275\n",
            "Epoch 11/100\n",
            "1/1 [==============================] - 0s 10ms/step - loss: 0.0694 - mae: 0.2261\n",
            "Epoch 12/100\n",
            "1/1 [==============================] - 0s 8ms/step - loss: 0.0687 - mae: 0.2249\n",
            "Epoch 13/100\n",
            "1/1 [==============================] - 0s 8ms/step - loss: 0.0679 - mae: 0.2236\n",
            "Epoch 14/100\n",
            "1/1 [==============================] - 0s 9ms/step - loss: 0.0672 - mae: 0.2224\n",
            "Epoch 15/100\n",
            "1/1 [==============================] - 0s 8ms/step - loss: 0.0664 - mae: 0.2212\n",
            "Epoch 16/100\n",
            "1/1 [==============================] - 0s 10ms/step - loss: 0.0657 - mae: 0.2200\n",
            "Epoch 17/100\n",
            "1/1 [==============================] - 0s 9ms/step - loss: 0.0650 - mae: 0.2188\n",
            "Epoch 18/100\n",
            "1/1 [==============================] - 0s 8ms/step - loss: 0.0643 - mae: 0.2176\n",
            "Epoch 19/100\n",
            "1/1 [==============================] - 0s 13ms/step - loss: 0.0636 - mae: 0.2164\n",
            "Epoch 20/100\n",
            "1/1 [==============================] - 0s 16ms/step - loss: 0.0629 - mae: 0.2152\n",
            "Epoch 21/100\n",
            "1/1 [==============================] - 0s 9ms/step - loss: 0.0622 - mae: 0.2140\n",
            "Epoch 22/100\n",
            "1/1 [==============================] - 0s 8ms/step - loss: 0.0615 - mae: 0.2128\n",
            "Epoch 23/100\n",
            "1/1 [==============================] - 0s 8ms/step - loss: 0.0608 - mae: 0.2117\n",
            "Epoch 24/100\n",
            "1/1 [==============================] - 0s 8ms/step - loss: 0.0602 - mae: 0.2105\n",
            "Epoch 25/100\n",
            "1/1 [==============================] - 0s 10ms/step - loss: 0.0595 - mae: 0.2093\n",
            "Epoch 26/100\n",
            "1/1 [==============================] - 0s 8ms/step - loss: 0.0589 - mae: 0.2082\n",
            "Epoch 27/100\n",
            "1/1 [==============================] - 0s 11ms/step - loss: 0.0582 - mae: 0.2071\n",
            "Epoch 28/100\n",
            "1/1 [==============================] - 0s 9ms/step - loss: 0.0576 - mae: 0.2059\n",
            "Epoch 29/100\n",
            "1/1 [==============================] - 0s 9ms/step - loss: 0.0570 - mae: 0.2048\n",
            "Epoch 30/100\n",
            "1/1 [==============================] - 0s 12ms/step - loss: 0.0563 - mae: 0.2037\n",
            "Epoch 31/100\n",
            "1/1 [==============================] - 0s 7ms/step - loss: 0.0557 - mae: 0.2026\n",
            "Epoch 32/100\n",
            "1/1 [==============================] - 0s 9ms/step - loss: 0.0551 - mae: 0.2014\n",
            "Epoch 33/100\n",
            "1/1 [==============================] - 0s 9ms/step - loss: 0.0545 - mae: 0.2003\n",
            "Epoch 34/100\n",
            "1/1 [==============================] - 0s 11ms/step - loss: 0.0539 - mae: 0.1992\n",
            "Epoch 35/100\n",
            "1/1 [==============================] - 0s 10ms/step - loss: 0.0533 - mae: 0.1981\n",
            "Epoch 36/100\n",
            "1/1 [==============================] - 0s 9ms/step - loss: 0.0527 - mae: 0.1971\n",
            "Epoch 37/100\n",
            "1/1 [==============================] - 0s 11ms/step - loss: 0.0522 - mae: 0.1960\n",
            "Epoch 38/100\n",
            "1/1 [==============================] - 0s 8ms/step - loss: 0.0516 - mae: 0.1949\n",
            "Epoch 39/100\n",
            "1/1 [==============================] - 0s 11ms/step - loss: 0.0510 - mae: 0.1938\n",
            "Epoch 40/100\n",
            "1/1 [==============================] - 0s 19ms/step - loss: 0.0505 - mae: 0.1928\n",
            "Epoch 41/100\n",
            "1/1 [==============================] - 0s 12ms/step - loss: 0.0499 - mae: 0.1917\n",
            "Epoch 42/100\n",
            "1/1 [==============================] - 0s 8ms/step - loss: 0.0494 - mae: 0.1907\n",
            "Epoch 43/100\n",
            "1/1 [==============================] - 0s 14ms/step - loss: 0.0488 - mae: 0.1896\n",
            "Epoch 44/100\n",
            "1/1 [==============================] - 0s 7ms/step - loss: 0.0483 - mae: 0.1886\n",
            "Epoch 45/100\n",
            "1/1 [==============================] - 0s 9ms/step - loss: 0.0478 - mae: 0.1875\n",
            "Epoch 46/100\n",
            "1/1 [==============================] - 0s 7ms/step - loss: 0.0472 - mae: 0.1865\n",
            "Epoch 47/100\n",
            "1/1 [==============================] - 0s 7ms/step - loss: 0.0467 - mae: 0.1855\n",
            "Epoch 48/100\n",
            "1/1 [==============================] - 0s 7ms/step - loss: 0.0462 - mae: 0.1845\n",
            "Epoch 49/100\n",
            "1/1 [==============================] - 0s 18ms/step - loss: 0.0457 - mae: 0.1835\n",
            "Epoch 50/100\n",
            "1/1 [==============================] - 0s 11ms/step - loss: 0.0452 - mae: 0.1825\n",
            "Epoch 51/100\n",
            "1/1 [==============================] - 0s 11ms/step - loss: 0.0447 - mae: 0.1815\n",
            "Epoch 52/100\n",
            "1/1 [==============================] - 0s 8ms/step - loss: 0.0442 - mae: 0.1805\n",
            "Epoch 53/100\n",
            "1/1 [==============================] - 0s 8ms/step - loss: 0.0437 - mae: 0.1795\n",
            "Epoch 54/100\n",
            "1/1 [==============================] - 0s 8ms/step - loss: 0.0433 - mae: 0.1785\n",
            "Epoch 55/100\n",
            "1/1 [==============================] - 0s 7ms/step - loss: 0.0428 - mae: 0.1775\n",
            "Epoch 56/100\n",
            "1/1 [==============================] - 0s 8ms/step - loss: 0.0423 - mae: 0.1765\n",
            "Epoch 57/100\n",
            "1/1 [==============================] - 0s 12ms/step - loss: 0.0419 - mae: 0.1756\n",
            "Epoch 58/100\n",
            "1/1 [==============================] - 0s 9ms/step - loss: 0.0414 - mae: 0.1746\n",
            "Epoch 59/100\n",
            "1/1 [==============================] - 0s 19ms/step - loss: 0.0410 - mae: 0.1737\n",
            "Epoch 60/100\n",
            "1/1 [==============================] - 0s 9ms/step - loss: 0.0405 - mae: 0.1727\n",
            "Epoch 61/100\n",
            "1/1 [==============================] - 0s 9ms/step - loss: 0.0401 - mae: 0.1718\n",
            "Epoch 62/100\n",
            "1/1 [==============================] - 0s 10ms/step - loss: 0.0396 - mae: 0.1708\n",
            "Epoch 63/100\n",
            "1/1 [==============================] - 0s 9ms/step - loss: 0.0392 - mae: 0.1699\n",
            "Epoch 64/100\n",
            "1/1 [==============================] - 0s 7ms/step - loss: 0.0388 - mae: 0.1689\n",
            "Epoch 65/100\n",
            "1/1 [==============================] - 0s 8ms/step - loss: 0.0383 - mae: 0.1680\n",
            "Epoch 66/100\n",
            "1/1 [==============================] - 0s 13ms/step - loss: 0.0379 - mae: 0.1671\n",
            "Epoch 67/100\n",
            "1/1 [==============================] - 0s 11ms/step - loss: 0.0375 - mae: 0.1662\n",
            "Epoch 68/100\n",
            "1/1 [==============================] - 0s 12ms/step - loss: 0.0371 - mae: 0.1653\n",
            "Epoch 69/100\n",
            "1/1 [==============================] - 0s 9ms/step - loss: 0.0367 - mae: 0.1644\n",
            "Epoch 70/100\n",
            "1/1 [==============================] - 0s 13ms/step - loss: 0.0363 - mae: 0.1635\n",
            "Epoch 71/100\n",
            "1/1 [==============================] - 0s 7ms/step - loss: 0.0359 - mae: 0.1626\n",
            "Epoch 72/100\n",
            "1/1 [==============================] - 0s 16ms/step - loss: 0.0355 - mae: 0.1617\n",
            "Epoch 73/100\n",
            "1/1 [==============================] - 0s 11ms/step - loss: 0.0351 - mae: 0.1608\n",
            "Epoch 74/100\n",
            "1/1 [==============================] - 0s 11ms/step - loss: 0.0347 - mae: 0.1599\n",
            "Epoch 75/100\n",
            "1/1 [==============================] - 0s 7ms/step - loss: 0.0343 - mae: 0.1590\n",
            "Epoch 76/100\n",
            "1/1 [==============================] - 0s 7ms/step - loss: 0.0340 - mae: 0.1582\n",
            "Epoch 77/100\n",
            "1/1 [==============================] - 0s 8ms/step - loss: 0.0336 - mae: 0.1573\n",
            "Epoch 78/100\n",
            "1/1 [==============================] - 0s 10ms/step - loss: 0.0332 - mae: 0.1564\n",
            "Epoch 79/100\n",
            "1/1 [==============================] - 0s 10ms/step - loss: 0.0329 - mae: 0.1556\n",
            "Epoch 80/100\n",
            "1/1 [==============================] - 0s 11ms/step - loss: 0.0325 - mae: 0.1547\n",
            "Epoch 81/100\n",
            "1/1 [==============================] - 0s 11ms/step - loss: 0.0322 - mae: 0.1539\n",
            "Epoch 82/100\n",
            "1/1 [==============================] - 0s 9ms/step - loss: 0.0318 - mae: 0.1530\n",
            "Epoch 83/100\n",
            "1/1 [==============================] - 0s 9ms/step - loss: 0.0315 - mae: 0.1522\n",
            "Epoch 84/100\n",
            "1/1 [==============================] - 0s 17ms/step - loss: 0.0311 - mae: 0.1514\n",
            "Epoch 85/100\n",
            "1/1 [==============================] - 0s 9ms/step - loss: 0.0308 - mae: 0.1505\n",
            "Epoch 86/100\n",
            "1/1 [==============================] - 0s 11ms/step - loss: 0.0304 - mae: 0.1497\n",
            "Epoch 87/100\n",
            "1/1 [==============================] - 0s 15ms/step - loss: 0.0301 - mae: 0.1489\n",
            "Epoch 88/100\n",
            "1/1 [==============================] - 0s 10ms/step - loss: 0.0298 - mae: 0.1481\n",
            "Epoch 89/100\n",
            "1/1 [==============================] - 0s 12ms/step - loss: 0.0294 - mae: 0.1473\n",
            "Epoch 90/100\n",
            "1/1 [==============================] - 0s 11ms/step - loss: 0.0291 - mae: 0.1464\n",
            "Epoch 91/100\n",
            "1/1 [==============================] - 0s 8ms/step - loss: 0.0288 - mae: 0.1456\n",
            "Epoch 92/100\n",
            "1/1 [==============================] - 0s 9ms/step - loss: 0.0285 - mae: 0.1448\n",
            "Epoch 93/100\n",
            "1/1 [==============================] - 0s 7ms/step - loss: 0.0282 - mae: 0.1441\n",
            "Epoch 94/100\n",
            "1/1 [==============================] - 0s 5ms/step - loss: 0.0279 - mae: 0.1433\n",
            "Epoch 95/100\n",
            "1/1 [==============================] - 0s 7ms/step - loss: 0.0276 - mae: 0.1425\n",
            "Epoch 96/100\n",
            "1/1 [==============================] - 0s 8ms/step - loss: 0.0273 - mae: 0.1417\n",
            "Epoch 97/100\n",
            "1/1 [==============================] - 0s 8ms/step - loss: 0.0270 - mae: 0.1409\n",
            "Epoch 98/100\n",
            "1/1 [==============================] - 0s 11ms/step - loss: 0.0267 - mae: 0.1401\n",
            "Epoch 99/100\n",
            "1/1 [==============================] - 0s 6ms/step - loss: 0.0264 - mae: 0.1394\n",
            "Epoch 100/100\n",
            "1/1 [==============================] - 0s 5ms/step - loss: 0.0261 - mae: 0.1386\n",
            "CPU times: user 1.64 s, sys: 90.4 ms, total: 1.73 s\n",
            "Wall time: 1.99 s\n"
          ]
        },
        {
          "output_type": "execute_result",
          "data": {
            "text/plain": [
              "<keras.callbacks.History at 0x7f6b6e3d8090>"
            ]
          },
          "metadata": {},
          "execution_count": 20
        }
      ]
    },
    {
      "cell_type": "markdown",
      "source": [
        "Сеть обучается, ошибка падает, метрика становится лучше, всё замечательно.\n",
        "\n",
        "Теперь проверим, а как модель работает на новых данных."
      ],
      "metadata": {
        "id": "gbROlNn-YJOz"
      }
    },
    {
      "cell_type": "code",
      "source": [
        "user_inp1, user_inp2 = 5, -9\n",
        "print(f\"Проверка на новых данных: {user_inp1} {user_inp2}\")\n",
        "print(\"Предсказание нейронной сети: \")\n",
        "print(model.predict(np.array([[user_inp1], [user_inp2]])))"
      ],
      "metadata": {
        "colab": {
          "base_uri": "https://localhost:8080/"
        },
        "id": "6hW87IUF_I-e",
        "outputId": "79fa5ff3-2dea-4a8c-83c7-8edc1d8bd6e0"
      },
      "execution_count": null,
      "outputs": [
        {
          "output_type": "stream",
          "name": "stdout",
          "text": [
            "Проверка на новых данных: 5 -9\n",
            "Предсказание нейронной сети: \n",
            "[[ 15.083238]\n",
            " [-26.299545]]\n"
          ]
        }
      ]
    },
    {
      "cell_type": "markdown",
      "source": [
        "Предсказания очень похожи на истину."
      ],
      "metadata": {
        "id": "wQqMjMcEYPcE"
      }
    },
    {
      "cell_type": "markdown",
      "source": [
        "Еще можем посмотреть, как поменялись наши веса после обучения."
      ],
      "metadata": {
        "id": "3jBXtePgYXpT"
      }
    },
    {
      "cell_type": "code",
      "source": [
        "nw1, nw0 = model.get_weights()\n",
        "print('w1 before', w1, 'w1 after', nw1)\n",
        "print('w0 before', w0, 'w0 after', nw0)"
      ],
      "metadata": {
        "colab": {
          "base_uri": "https://localhost:8080/"
        },
        "id": "_-n4M6tdE57C",
        "outputId": "1786a5db-acad-4c1a-d422-a7a706e7c603"
      },
      "execution_count": null,
      "outputs": [
        {
          "output_type": "stream",
          "name": "stdout",
          "text": [
            "w1 before [[-0.70081437]] w1 after [[2.955913]]\n",
            "w0 before [0.] w0 after [0.30367187]\n"
          ]
        }
      ]
    },
    {
      "cell_type": "markdown",
      "source": [
        "И проверимся на всех обучающих данных."
      ],
      "metadata": {
        "id": "1s7-Pw6eYcOi"
      }
    },
    {
      "cell_type": "code",
      "source": [
        "import pandas as pd\n",
        "\n",
        "pd.DataFrame({\n",
        "   'true': np.squeeze(y),\n",
        "   'pred': np.squeeze(model.predict(X))\n",
        "})"
      ],
      "metadata": {
        "colab": {
          "base_uri": "https://localhost:8080/",
          "height": 269
        },
        "id": "-t3MsXSIF6T1",
        "outputId": "17327e03-8fea-4eeb-ed6f-a9b8221ab5ef"
      },
      "execution_count": null,
      "outputs": [
        {
          "output_type": "execute_result",
          "data": {
            "text/plain": [
              "   true       pred\n",
              "0     3   3.259585\n",
              "1     9   9.171411\n",
              "2     6   6.215498\n",
              "3    30  29.862804\n",
              "4    12  12.127324\n",
              "5    21  20.995064\n",
              "6    24  23.950977"
            ],
            "text/html": [
              "\n",
              "  <div id=\"df-642921d9-2a70-49e2-b2ab-41fa54dac439\">\n",
              "    <div class=\"colab-df-container\">\n",
              "      <div>\n",
              "<style scoped>\n",
              "    .dataframe tbody tr th:only-of-type {\n",
              "        vertical-align: middle;\n",
              "    }\n",
              "\n",
              "    .dataframe tbody tr th {\n",
              "        vertical-align: top;\n",
              "    }\n",
              "\n",
              "    .dataframe thead th {\n",
              "        text-align: right;\n",
              "    }\n",
              "</style>\n",
              "<table border=\"1\" class=\"dataframe\">\n",
              "  <thead>\n",
              "    <tr style=\"text-align: right;\">\n",
              "      <th></th>\n",
              "      <th>true</th>\n",
              "      <th>pred</th>\n",
              "    </tr>\n",
              "  </thead>\n",
              "  <tbody>\n",
              "    <tr>\n",
              "      <th>0</th>\n",
              "      <td>3</td>\n",
              "      <td>3.259585</td>\n",
              "    </tr>\n",
              "    <tr>\n",
              "      <th>1</th>\n",
              "      <td>9</td>\n",
              "      <td>9.171411</td>\n",
              "    </tr>\n",
              "    <tr>\n",
              "      <th>2</th>\n",
              "      <td>6</td>\n",
              "      <td>6.215498</td>\n",
              "    </tr>\n",
              "    <tr>\n",
              "      <th>3</th>\n",
              "      <td>30</td>\n",
              "      <td>29.862804</td>\n",
              "    </tr>\n",
              "    <tr>\n",
              "      <th>4</th>\n",
              "      <td>12</td>\n",
              "      <td>12.127324</td>\n",
              "    </tr>\n",
              "    <tr>\n",
              "      <th>5</th>\n",
              "      <td>21</td>\n",
              "      <td>20.995064</td>\n",
              "    </tr>\n",
              "    <tr>\n",
              "      <th>6</th>\n",
              "      <td>24</td>\n",
              "      <td>23.950977</td>\n",
              "    </tr>\n",
              "  </tbody>\n",
              "</table>\n",
              "</div>\n",
              "      <button class=\"colab-df-convert\" onclick=\"convertToInteractive('df-642921d9-2a70-49e2-b2ab-41fa54dac439')\"\n",
              "              title=\"Convert this dataframe to an interactive table.\"\n",
              "              style=\"display:none;\">\n",
              "        \n",
              "  <svg xmlns=\"http://www.w3.org/2000/svg\" height=\"24px\"viewBox=\"0 0 24 24\"\n",
              "       width=\"24px\">\n",
              "    <path d=\"M0 0h24v24H0V0z\" fill=\"none\"/>\n",
              "    <path d=\"M18.56 5.44l.94 2.06.94-2.06 2.06-.94-2.06-.94-.94-2.06-.94 2.06-2.06.94zm-11 1L8.5 8.5l.94-2.06 2.06-.94-2.06-.94L8.5 2.5l-.94 2.06-2.06.94zm10 10l.94 2.06.94-2.06 2.06-.94-2.06-.94-.94-2.06-.94 2.06-2.06.94z\"/><path d=\"M17.41 7.96l-1.37-1.37c-.4-.4-.92-.59-1.43-.59-.52 0-1.04.2-1.43.59L10.3 9.45l-7.72 7.72c-.78.78-.78 2.05 0 2.83L4 21.41c.39.39.9.59 1.41.59.51 0 1.02-.2 1.41-.59l7.78-7.78 2.81-2.81c.8-.78.8-2.07 0-2.86zM5.41 20L4 18.59l7.72-7.72 1.47 1.35L5.41 20z\"/>\n",
              "  </svg>\n",
              "      </button>\n",
              "      \n",
              "  <style>\n",
              "    .colab-df-container {\n",
              "      display:flex;\n",
              "      flex-wrap:wrap;\n",
              "      gap: 12px;\n",
              "    }\n",
              "\n",
              "    .colab-df-convert {\n",
              "      background-color: #E8F0FE;\n",
              "      border: none;\n",
              "      border-radius: 50%;\n",
              "      cursor: pointer;\n",
              "      display: none;\n",
              "      fill: #1967D2;\n",
              "      height: 32px;\n",
              "      padding: 0 0 0 0;\n",
              "      width: 32px;\n",
              "    }\n",
              "\n",
              "    .colab-df-convert:hover {\n",
              "      background-color: #E2EBFA;\n",
              "      box-shadow: 0px 1px 2px rgba(60, 64, 67, 0.3), 0px 1px 3px 1px rgba(60, 64, 67, 0.15);\n",
              "      fill: #174EA6;\n",
              "    }\n",
              "\n",
              "    [theme=dark] .colab-df-convert {\n",
              "      background-color: #3B4455;\n",
              "      fill: #D2E3FC;\n",
              "    }\n",
              "\n",
              "    [theme=dark] .colab-df-convert:hover {\n",
              "      background-color: #434B5C;\n",
              "      box-shadow: 0px 1px 3px 1px rgba(0, 0, 0, 0.15);\n",
              "      filter: drop-shadow(0px 1px 2px rgba(0, 0, 0, 0.3));\n",
              "      fill: #FFFFFF;\n",
              "    }\n",
              "  </style>\n",
              "\n",
              "      <script>\n",
              "        const buttonEl =\n",
              "          document.querySelector('#df-642921d9-2a70-49e2-b2ab-41fa54dac439 button.colab-df-convert');\n",
              "        buttonEl.style.display =\n",
              "          google.colab.kernel.accessAllowed ? 'block' : 'none';\n",
              "\n",
              "        async function convertToInteractive(key) {\n",
              "          const element = document.querySelector('#df-642921d9-2a70-49e2-b2ab-41fa54dac439');\n",
              "          const dataTable =\n",
              "            await google.colab.kernel.invokeFunction('convertToInteractive',\n",
              "                                                     [key], {});\n",
              "          if (!dataTable) return;\n",
              "\n",
              "          const docLinkHtml = 'Like what you see? Visit the ' +\n",
              "            '<a target=\"_blank\" href=https://colab.research.google.com/notebooks/data_table.ipynb>data table notebook</a>'\n",
              "            + ' to learn more about interactive tables.';\n",
              "          element.innerHTML = '';\n",
              "          dataTable['output_type'] = 'display_data';\n",
              "          await google.colab.output.renderOutput(dataTable, element);\n",
              "          const docLink = document.createElement('div');\n",
              "          docLink.innerHTML = docLinkHtml;\n",
              "          element.appendChild(docLink);\n",
              "        }\n",
              "      </script>\n",
              "    </div>\n",
              "  </div>\n",
              "  "
            ]
          },
          "metadata": {},
          "execution_count": 24
        }
      ]
    },
    {
      "cell_type": "markdown",
      "source": [
        "## Сеть для сложения чисел"
      ],
      "metadata": {
        "id": "560b4MkNbqhg"
      }
    },
    {
      "cell_type": "markdown",
      "source": [
        "Создадим обучающие данные"
      ],
      "metadata": {
        "id": "1-ZItmaIbqhs"
      }
    },
    {
      "cell_type": "code",
      "source": [
        "X1 = np.random.randint(1, 10, size=50)\n",
        "X2 = np.random.randint(1, 10, size=50)\n",
        "\n",
        "y = X1 + X2"
      ],
      "metadata": {
        "id": "zjNa5uVDb5w9"
      },
      "execution_count": null,
      "outputs": []
    },
    {
      "cell_type": "code",
      "source": [
        "X = np.vstack([X1, X2]).T\n",
        "X"
      ],
      "metadata": {
        "colab": {
          "base_uri": "https://localhost:8080/"
        },
        "id": "Jt5efryQcHql",
        "outputId": "15b31eba-b0bd-4d45-d021-47beb0144434"
      },
      "execution_count": null,
      "outputs": [
        {
          "output_type": "execute_result",
          "data": {
            "text/plain": [
              "array([[8, 1],\n",
              "       [5, 9],\n",
              "       [7, 5],\n",
              "       [4, 9],\n",
              "       [7, 5],\n",
              "       [7, 4],\n",
              "       [3, 7],\n",
              "       [5, 4],\n",
              "       [9, 7],\n",
              "       [6, 8],\n",
              "       [5, 3],\n",
              "       [8, 6],\n",
              "       [7, 3],\n",
              "       [2, 5],\n",
              "       [2, 4],\n",
              "       [9, 5],\n",
              "       [5, 3],\n",
              "       [9, 9],\n",
              "       [6, 8],\n",
              "       [4, 5],\n",
              "       [7, 3],\n",
              "       [3, 5],\n",
              "       [3, 6],\n",
              "       [3, 3],\n",
              "       [5, 7],\n",
              "       [3, 1],\n",
              "       [1, 3],\n",
              "       [3, 4],\n",
              "       [2, 4],\n",
              "       [7, 5],\n",
              "       [9, 6],\n",
              "       [4, 2],\n",
              "       [7, 9],\n",
              "       [5, 8],\n",
              "       [3, 9],\n",
              "       [5, 8],\n",
              "       [6, 1],\n",
              "       [6, 1],\n",
              "       [6, 3],\n",
              "       [4, 2],\n",
              "       [2, 7],\n",
              "       [6, 7],\n",
              "       [2, 5],\n",
              "       [2, 7],\n",
              "       [2, 2],\n",
              "       [5, 1],\n",
              "       [9, 4],\n",
              "       [2, 3],\n",
              "       [2, 3],\n",
              "       [9, 6]])"
            ]
          },
          "metadata": {},
          "execution_count": 26
        }
      ]
    },
    {
      "cell_type": "code",
      "source": [
        "y = y[None]\n",
        "y = y.T\n",
        "y"
      ],
      "metadata": {
        "colab": {
          "base_uri": "https://localhost:8080/"
        },
        "id": "yuvCsiuochWf",
        "outputId": "3362debc-3a95-4c24-fb61-b2220f39474c"
      },
      "execution_count": null,
      "outputs": [
        {
          "output_type": "execute_result",
          "data": {
            "text/plain": [
              "array([[ 9],\n",
              "       [14],\n",
              "       [12],\n",
              "       [13],\n",
              "       [12],\n",
              "       [11],\n",
              "       [10],\n",
              "       [ 9],\n",
              "       [16],\n",
              "       [14],\n",
              "       [ 8],\n",
              "       [14],\n",
              "       [10],\n",
              "       [ 7],\n",
              "       [ 6],\n",
              "       [14],\n",
              "       [ 8],\n",
              "       [18],\n",
              "       [14],\n",
              "       [ 9],\n",
              "       [10],\n",
              "       [ 8],\n",
              "       [ 9],\n",
              "       [ 6],\n",
              "       [12],\n",
              "       [ 4],\n",
              "       [ 4],\n",
              "       [ 7],\n",
              "       [ 6],\n",
              "       [12],\n",
              "       [15],\n",
              "       [ 6],\n",
              "       [16],\n",
              "       [13],\n",
              "       [12],\n",
              "       [13],\n",
              "       [ 7],\n",
              "       [ 7],\n",
              "       [ 9],\n",
              "       [ 6],\n",
              "       [ 9],\n",
              "       [13],\n",
              "       [ 7],\n",
              "       [ 9],\n",
              "       [ 4],\n",
              "       [ 6],\n",
              "       [13],\n",
              "       [ 5],\n",
              "       [ 5],\n",
              "       [15]])"
            ]
          },
          "metadata": {},
          "execution_count": 28
        }
      ]
    },
    {
      "cell_type": "markdown",
      "source": [
        "Т.к. сети - это куча маленьких линейных регрессий, а им нужно масштабирование данных, то и для нейросетей, так же нужно масштабирование данных.\n",
        "\n",
        "Если что поизучать StandardScaler и MinMaxScaler можно в этом [видео](https://youtu.be/XsuCOfpf8Ic)\n",
        "\n",
        "<img src='https://drive.google.com/uc?id=17gNPTKRh1K5fABEQf_TDhHWTdJuzBEjZ'>"
      ],
      "metadata": {
        "id": "euyhpaA1h7Ee"
      }
    },
    {
      "cell_type": "code",
      "source": [
        "from sklearn.preprocessing import MinMaxScaler\n",
        "\n",
        "mms = MinMaxScaler()\n",
        "X_norm = mms.fit_transform(X)"
      ],
      "metadata": {
        "id": "oT7173S_f180"
      },
      "execution_count": null,
      "outputs": []
    },
    {
      "cell_type": "markdown",
      "source": [
        "Для того, что обучить нейронную сеть для любой задачи нужно ответить на три вопроса:\n",
        "1. Какая архитектура сети?\n",
        "2. Что оптимизируем?\n",
        "3. Как обучаем?"
      ],
      "metadata": {
        "id": "YYqaoqxgbqht"
      }
    },
    {
      "cell_type": "markdown",
      "source": [
        "### Какая архитектура сети"
      ],
      "metadata": {
        "id": "Q-BEwoGAbqht"
      }
    },
    {
      "cell_type": "markdown",
      "source": [
        "Создадим сеть посложнее, она будет состоять уже из двух слоев, чтобы быстрее обучалась. В одном слое 3 нейрона, а в выходном слое 1 нейрон.\n",
        "\n",
        "<img src='https://drive.google.com/uc?id=1iA7xkAzoWocEW-eVzI0MqVcLXALYg_In'>"
      ],
      "metadata": {
        "id": "AI3mYCrbbqht"
      }
    },
    {
      "cell_type": "markdown",
      "source": [
        "При этом пользуемся `Sequential`, т.к. у нас слои последовательные, сначала 2 входа идут в 5 нейронов, а затем выходы из этих 5 нейронов идут в один нейрон."
      ],
      "metadata": {
        "id": "U9Hci-A3S_M-"
      }
    },
    {
      "cell_type": "code",
      "source": [
        "from keras.layers import Dense\n",
        "from keras.models import Sequential\n",
        "tf.random.set_seed(9)\n",
        "\n",
        "model = Sequential([\n",
        "    Dense(3, input_shape=(2,), activation='linear'),\n",
        "    Dense(1, activation='linear')\n",
        "])\n",
        "\n",
        "model.summary()"
      ],
      "metadata": {
        "colab": {
          "base_uri": "https://localhost:8080/"
        },
        "id": "_XzSVCcyGIJV",
        "outputId": "83efce42-43fc-49ad-bce2-00579fdef932"
      },
      "execution_count": null,
      "outputs": [
        {
          "output_type": "stream",
          "name": "stdout",
          "text": [
            "Model: \"sequential_10\"\n",
            "_________________________________________________________________\n",
            " Layer (type)                Output Shape              Param #   \n",
            "=================================================================\n",
            " dense_11 (Dense)            (None, 3)                 9         \n",
            "                                                                 \n",
            " dense_12 (Dense)            (None, 1)                 4         \n",
            "                                                                 \n",
            "=================================================================\n",
            "Total params: 13\n",
            "Trainable params: 13\n",
            "Non-trainable params: 0\n",
            "_________________________________________________________________\n"
          ]
        }
      ]
    },
    {
      "cell_type": "markdown",
      "source": [
        "Что здесь происходит с весами и с самой архитектурой?\n",
        "\n",
        "Количество весов для одного нейрона равно 2, т.к. два входа поступает, а вдобавок у каждого нейрона есть 1 bias, на первом слое 3 нейрона, значит суммарно весов на первом слое будет 9.\n",
        "\n",
        "Второй слой ждет на вход 3 сигнала, еще 1 bias.\n",
        "\n",
        "Получаем 9 + 4 = 13 обучаемых весов."
      ],
      "metadata": {
        "id": "OJRvtgG1YxmH"
      }
    },
    {
      "cell_type": "code",
      "source": [
        "model.get_weights()"
      ],
      "metadata": {
        "colab": {
          "base_uri": "https://localhost:8080/"
        },
        "id": "oOQrDNINZOJ2",
        "outputId": "b26f5f81-327f-4336-87af-eb8bbdb1657a"
      },
      "execution_count": null,
      "outputs": [
        {
          "output_type": "execute_result",
          "data": {
            "text/plain": [
              "[array([[-0.07237196,  0.56556344,  0.43740094],\n",
              "        [-0.5245885 ,  0.13245857, -0.5101871 ]], dtype=float32),\n",
              " array([0., 0., 0.], dtype=float32),\n",
              " array([[-0.8827321 ],\n",
              "        [ 0.29002857],\n",
              "        [ 0.37785316]], dtype=float32),\n",
              " array([0.], dtype=float32)]"
            ]
          },
          "metadata": {},
          "execution_count": 35
        }
      ]
    },
    {
      "cell_type": "markdown",
      "source": [
        "### Что оптимизируем\n",
        "\n",
        "Снова задача регрессии, поэтому берем функцию потерь MSE."
      ],
      "metadata": {
        "id": "bmi5Nj8Obqhu"
      }
    },
    {
      "cell_type": "markdown",
      "source": [
        "### Как оптимизируем\n",
        "\n",
        "Возьмем тот же самый градиентный спуск со стохастикой."
      ],
      "metadata": {
        "id": "442ai77pbqhu"
      }
    },
    {
      "cell_type": "code",
      "source": [
        "model.compile(optimizer='sgd', loss='mse', metrics='mae')"
      ],
      "metadata": {
        "id": "uuSt5bzsbqhu"
      },
      "execution_count": null,
      "outputs": []
    },
    {
      "cell_type": "code",
      "source": [
        "%%time\n",
        "model.fit(X_norm, y, epochs=200)"
      ],
      "metadata": {
        "colab": {
          "base_uri": "https://localhost:8080/"
        },
        "outputId": "76308895-bd8b-4b83-de45-79d8834b4bd7",
        "id": "Y2U7VmAcbqhv"
      },
      "execution_count": null,
      "outputs": [
        {
          "output_type": "stream",
          "name": "stdout",
          "text": [
            "Epoch 1/200\n",
            "2/2 [==============================] - 0s 7ms/step - loss: 99.3807 - mae: 9.3797\n",
            "Epoch 2/200\n",
            "2/2 [==============================] - 0s 7ms/step - loss: 75.0164 - mae: 8.0067\n",
            "Epoch 3/200\n",
            "2/2 [==============================] - 0s 5ms/step - loss: 47.0984 - mae: 6.1159\n",
            "Epoch 4/200\n",
            "2/2 [==============================] - 0s 13ms/step - loss: 21.6068 - mae: 3.8829\n",
            "Epoch 5/200\n",
            "2/2 [==============================] - 0s 8ms/step - loss: 7.7227 - mae: 2.1875\n",
            "Epoch 6/200\n",
            "2/2 [==============================] - 0s 3ms/step - loss: 3.7019 - mae: 1.6191\n",
            "Epoch 7/200\n",
            "2/2 [==============================] - 0s 6ms/step - loss: 3.0096 - mae: 1.5180\n",
            "Epoch 8/200\n",
            "2/2 [==============================] - 0s 9ms/step - loss: 2.8108 - mae: 1.4678\n",
            "Epoch 9/200\n",
            "2/2 [==============================] - 0s 8ms/step - loss: 2.6601 - mae: 1.4247\n",
            "Epoch 10/200\n",
            "2/2 [==============================] - 0s 6ms/step - loss: 2.5376 - mae: 1.3946\n",
            "Epoch 11/200\n",
            "2/2 [==============================] - 0s 7ms/step - loss: 2.4185 - mae: 1.3622\n",
            "Epoch 12/200\n",
            "2/2 [==============================] - 0s 8ms/step - loss: 2.3430 - mae: 1.3427\n",
            "Epoch 13/200\n",
            "2/2 [==============================] - 0s 7ms/step - loss: 2.2766 - mae: 1.3116\n",
            "Epoch 14/200\n",
            "2/2 [==============================] - 0s 6ms/step - loss: 2.1362 - mae: 1.2801\n",
            "Epoch 15/200\n",
            "2/2 [==============================] - 0s 7ms/step - loss: 1.9918 - mae: 1.2327\n",
            "Epoch 16/200\n",
            "2/2 [==============================] - 0s 6ms/step - loss: 1.8978 - mae: 1.2068\n",
            "Epoch 17/200\n",
            "2/2 [==============================] - 0s 7ms/step - loss: 1.7921 - mae: 1.1711\n",
            "Epoch 18/200\n",
            "2/2 [==============================] - 0s 6ms/step - loss: 1.7573 - mae: 1.1591\n",
            "Epoch 19/200\n",
            "2/2 [==============================] - 0s 6ms/step - loss: 1.6349 - mae: 1.1097\n",
            "Epoch 20/200\n",
            "2/2 [==============================] - 0s 6ms/step - loss: 1.5508 - mae: 1.0922\n",
            "Epoch 21/200\n",
            "2/2 [==============================] - 0s 7ms/step - loss: 1.4480 - mae: 1.0493\n",
            "Epoch 22/200\n",
            "2/2 [==============================] - 0s 10ms/step - loss: 1.3648 - mae: 1.0249\n",
            "Epoch 23/200\n",
            "2/2 [==============================] - 0s 6ms/step - loss: 1.3088 - mae: 0.9993\n",
            "Epoch 24/200\n",
            "2/2 [==============================] - 0s 8ms/step - loss: 1.2294 - mae: 0.9667\n",
            "Epoch 25/200\n",
            "2/2 [==============================] - 0s 5ms/step - loss: 1.1601 - mae: 0.9389\n",
            "Epoch 26/200\n",
            "2/2 [==============================] - 0s 13ms/step - loss: 1.1128 - mae: 0.9210\n",
            "Epoch 27/200\n",
            "2/2 [==============================] - 0s 6ms/step - loss: 1.0735 - mae: 0.9011\n",
            "Epoch 28/200\n",
            "2/2 [==============================] - 0s 6ms/step - loss: 0.9745 - mae: 0.8604\n",
            "Epoch 29/200\n",
            "2/2 [==============================] - 0s 6ms/step - loss: 0.9261 - mae: 0.8422\n",
            "Epoch 30/200\n",
            "2/2 [==============================] - 0s 5ms/step - loss: 0.8628 - mae: 0.8089\n",
            "Epoch 31/200\n",
            "2/2 [==============================] - 0s 7ms/step - loss: 0.7998 - mae: 0.7814\n",
            "Epoch 32/200\n",
            "2/2 [==============================] - 0s 6ms/step - loss: 0.7531 - mae: 0.7606\n",
            "Epoch 33/200\n",
            "2/2 [==============================] - 0s 6ms/step - loss: 0.7045 - mae: 0.7361\n",
            "Epoch 34/200\n",
            "2/2 [==============================] - 0s 6ms/step - loss: 0.6580 - mae: 0.7101\n",
            "Epoch 35/200\n",
            "2/2 [==============================] - 0s 7ms/step - loss: 0.6187 - mae: 0.6888\n",
            "Epoch 36/200\n",
            "2/2 [==============================] - 0s 7ms/step - loss: 0.5809 - mae: 0.6674\n",
            "Epoch 37/200\n",
            "2/2 [==============================] - 0s 9ms/step - loss: 0.5755 - mae: 0.6623\n",
            "Epoch 38/200\n",
            "2/2 [==============================] - 0s 7ms/step - loss: 0.5180 - mae: 0.6250\n",
            "Epoch 39/200\n",
            "2/2 [==============================] - 0s 7ms/step - loss: 0.4731 - mae: 0.6023\n",
            "Epoch 40/200\n",
            "2/2 [==============================] - 0s 6ms/step - loss: 0.4543 - mae: 0.5884\n",
            "Epoch 41/200\n",
            "2/2 [==============================] - 0s 6ms/step - loss: 0.4166 - mae: 0.5627\n",
            "Epoch 42/200\n",
            "2/2 [==============================] - 0s 6ms/step - loss: 0.3957 - mae: 0.5505\n",
            "Epoch 43/200\n",
            "2/2 [==============================] - 0s 6ms/step - loss: 0.3759 - mae: 0.5391\n",
            "Epoch 44/200\n",
            "2/2 [==============================] - 0s 7ms/step - loss: 0.3388 - mae: 0.5057\n",
            "Epoch 45/200\n",
            "2/2 [==============================] - 0s 9ms/step - loss: 0.3125 - mae: 0.4900\n",
            "Epoch 46/200\n",
            "2/2 [==============================] - 0s 5ms/step - loss: 0.2904 - mae: 0.4707\n",
            "Epoch 47/200\n",
            "2/2 [==============================] - 0s 6ms/step - loss: 0.2703 - mae: 0.4561\n",
            "Epoch 48/200\n",
            "2/2 [==============================] - 0s 5ms/step - loss: 0.2518 - mae: 0.4390\n",
            "Epoch 49/200\n",
            "2/2 [==============================] - 0s 6ms/step - loss: 0.2352 - mae: 0.4245\n",
            "Epoch 50/200\n",
            "2/2 [==============================] - 0s 6ms/step - loss: 0.2203 - mae: 0.4089\n",
            "Epoch 51/200\n",
            "2/2 [==============================] - 0s 6ms/step - loss: 0.2041 - mae: 0.3946\n",
            "Epoch 52/200\n",
            "2/2 [==============================] - 0s 7ms/step - loss: 0.1925 - mae: 0.3834\n",
            "Epoch 53/200\n",
            "2/2 [==============================] - 0s 6ms/step - loss: 0.1759 - mae: 0.3630\n",
            "Epoch 54/200\n",
            "2/2 [==============================] - 0s 7ms/step - loss: 0.1626 - mae: 0.3531\n",
            "Epoch 55/200\n",
            "2/2 [==============================] - 0s 11ms/step - loss: 0.1504 - mae: 0.3388\n",
            "Epoch 56/200\n",
            "2/2 [==============================] - 0s 6ms/step - loss: 0.1444 - mae: 0.3332\n",
            "Epoch 57/200\n",
            "2/2 [==============================] - 0s 7ms/step - loss: 0.1339 - mae: 0.3160\n",
            "Epoch 58/200\n",
            "2/2 [==============================] - 0s 7ms/step - loss: 0.1250 - mae: 0.3083\n",
            "Epoch 59/200\n",
            "2/2 [==============================] - 0s 7ms/step - loss: 0.1125 - mae: 0.2869\n",
            "Epoch 60/200\n",
            "2/2 [==============================] - 0s 7ms/step - loss: 0.1022 - mae: 0.2784\n",
            "Epoch 61/200\n",
            "2/2 [==============================] - 0s 7ms/step - loss: 0.0948 - mae: 0.2688\n",
            "Epoch 62/200\n",
            "2/2 [==============================] - 0s 6ms/step - loss: 0.0878 - mae: 0.2582\n",
            "Epoch 63/200\n",
            "2/2 [==============================] - 0s 6ms/step - loss: 0.0809 - mae: 0.2493\n",
            "Epoch 64/200\n",
            "2/2 [==============================] - 0s 7ms/step - loss: 0.0753 - mae: 0.2406\n",
            "Epoch 65/200\n",
            "2/2 [==============================] - 0s 7ms/step - loss: 0.0692 - mae: 0.2289\n",
            "Epoch 66/200\n",
            "2/2 [==============================] - 0s 8ms/step - loss: 0.0641 - mae: 0.2212\n",
            "Epoch 67/200\n",
            "2/2 [==============================] - 0s 7ms/step - loss: 0.0586 - mae: 0.2117\n",
            "Epoch 68/200\n",
            "2/2 [==============================] - 0s 7ms/step - loss: 0.0548 - mae: 0.2046\n",
            "Epoch 69/200\n",
            "2/2 [==============================] - 0s 6ms/step - loss: 0.0502 - mae: 0.1952\n",
            "Epoch 70/200\n",
            "2/2 [==============================] - 0s 6ms/step - loss: 0.0456 - mae: 0.1856\n",
            "Epoch 71/200\n",
            "2/2 [==============================] - 0s 6ms/step - loss: 0.0440 - mae: 0.1832\n",
            "Epoch 72/200\n",
            "2/2 [==============================] - 0s 7ms/step - loss: 0.0401 - mae: 0.1729\n",
            "Epoch 73/200\n",
            "2/2 [==============================] - 0s 6ms/step - loss: 0.0358 - mae: 0.1631\n",
            "Epoch 74/200\n",
            "2/2 [==============================] - 0s 6ms/step - loss: 0.0326 - mae: 0.1570\n",
            "Epoch 75/200\n",
            "2/2 [==============================] - 0s 6ms/step - loss: 0.0298 - mae: 0.1504\n",
            "Epoch 76/200\n",
            "2/2 [==============================] - 0s 7ms/step - loss: 0.0278 - mae: 0.1458\n",
            "Epoch 77/200\n",
            "2/2 [==============================] - 0s 8ms/step - loss: 0.0254 - mae: 0.1395\n",
            "Epoch 78/200\n",
            "2/2 [==============================] - 0s 6ms/step - loss: 0.0233 - mae: 0.1329\n",
            "Epoch 79/200\n",
            "2/2 [==============================] - 0s 6ms/step - loss: 0.0214 - mae: 0.1279\n",
            "Epoch 80/200\n",
            "2/2 [==============================] - 0s 6ms/step - loss: 0.0196 - mae: 0.1223\n",
            "Epoch 81/200\n",
            "2/2 [==============================] - 0s 6ms/step - loss: 0.0186 - mae: 0.1183\n",
            "Epoch 82/200\n",
            "2/2 [==============================] - 0s 7ms/step - loss: 0.0172 - mae: 0.1123\n",
            "Epoch 83/200\n",
            "2/2 [==============================] - 0s 7ms/step - loss: 0.0153 - mae: 0.1065\n",
            "Epoch 84/200\n",
            "2/2 [==============================] - 0s 9ms/step - loss: 0.0143 - mae: 0.1039\n",
            "Epoch 85/200\n",
            "2/2 [==============================] - 0s 12ms/step - loss: 0.0129 - mae: 0.0985\n",
            "Epoch 86/200\n",
            "2/2 [==============================] - 0s 14ms/step - loss: 0.0118 - mae: 0.0944\n",
            "Epoch 87/200\n",
            "2/2 [==============================] - 0s 7ms/step - loss: 0.0110 - mae: 0.0912\n",
            "Epoch 88/200\n",
            "2/2 [==============================] - 0s 9ms/step - loss: 0.0100 - mae: 0.0872\n",
            "Epoch 89/200\n",
            "2/2 [==============================] - 0s 10ms/step - loss: 0.0091 - mae: 0.0833\n",
            "Epoch 90/200\n",
            "2/2 [==============================] - 0s 8ms/step - loss: 0.0084 - mae: 0.0797\n",
            "Epoch 91/200\n",
            "2/2 [==============================] - 0s 6ms/step - loss: 0.0078 - mae: 0.0765\n",
            "Epoch 92/200\n",
            "2/2 [==============================] - 0s 6ms/step - loss: 0.0071 - mae: 0.0736\n",
            "Epoch 93/200\n",
            "2/2 [==============================] - 0s 6ms/step - loss: 0.0067 - mae: 0.0718\n",
            "Epoch 94/200\n",
            "2/2 [==============================] - 0s 6ms/step - loss: 0.0060 - mae: 0.0665\n",
            "Epoch 95/200\n",
            "2/2 [==============================] - 0s 8ms/step - loss: 0.0056 - mae: 0.0651\n",
            "Epoch 96/200\n",
            "2/2 [==============================] - 0s 7ms/step - loss: 0.0051 - mae: 0.0618\n",
            "Epoch 97/200\n",
            "2/2 [==============================] - 0s 7ms/step - loss: 0.0046 - mae: 0.0590\n",
            "Epoch 98/200\n",
            "2/2 [==============================] - 0s 7ms/step - loss: 0.0042 - mae: 0.0563\n",
            "Epoch 99/200\n",
            "2/2 [==============================] - 0s 7ms/step - loss: 0.0039 - mae: 0.0540\n",
            "Epoch 100/200\n",
            "2/2 [==============================] - 0s 7ms/step - loss: 0.0035 - mae: 0.0515\n",
            "Epoch 101/200\n",
            "2/2 [==============================] - 0s 8ms/step - loss: 0.0033 - mae: 0.0495\n",
            "Epoch 102/200\n",
            "2/2 [==============================] - 0s 6ms/step - loss: 0.0030 - mae: 0.0473\n",
            "Epoch 103/200\n",
            "2/2 [==============================] - 0s 6ms/step - loss: 0.0027 - mae: 0.0453\n",
            "Epoch 104/200\n",
            "2/2 [==============================] - 0s 7ms/step - loss: 0.0025 - mae: 0.0434\n",
            "Epoch 105/200\n",
            "2/2 [==============================] - 0s 6ms/step - loss: 0.0023 - mae: 0.0417\n",
            "Epoch 106/200\n",
            "2/2 [==============================] - 0s 8ms/step - loss: 0.0022 - mae: 0.0402\n",
            "Epoch 107/200\n",
            "2/2 [==============================] - 0s 11ms/step - loss: 0.0020 - mae: 0.0384\n",
            "Epoch 108/200\n",
            "2/2 [==============================] - 0s 7ms/step - loss: 0.0018 - mae: 0.0367\n",
            "Epoch 109/200\n",
            "2/2 [==============================] - 0s 6ms/step - loss: 0.0016 - mae: 0.0351\n",
            "Epoch 110/200\n",
            "2/2 [==============================] - 0s 7ms/step - loss: 0.0015 - mae: 0.0333\n",
            "Epoch 111/200\n",
            "2/2 [==============================] - 0s 5ms/step - loss: 0.0014 - mae: 0.0319\n",
            "Epoch 112/200\n",
            "2/2 [==============================] - 0s 6ms/step - loss: 0.0012 - mae: 0.0306\n",
            "Epoch 113/200\n",
            "2/2 [==============================] - 0s 6ms/step - loss: 0.0011 - mae: 0.0291\n",
            "Epoch 114/200\n",
            "2/2 [==============================] - 0s 6ms/step - loss: 0.0011 - mae: 0.0281\n",
            "Epoch 115/200\n",
            "2/2 [==============================] - 0s 6ms/step - loss: 9.6295e-04 - mae: 0.0269\n",
            "Epoch 116/200\n",
            "2/2 [==============================] - 0s 7ms/step - loss: 8.9366e-04 - mae: 0.0257\n",
            "Epoch 117/200\n",
            "2/2 [==============================] - 0s 11ms/step - loss: 8.1934e-04 - mae: 0.0248\n",
            "Epoch 118/200\n",
            "2/2 [==============================] - 0s 10ms/step - loss: 7.5036e-04 - mae: 0.0236\n",
            "Epoch 119/200\n",
            "2/2 [==============================] - 0s 10ms/step - loss: 6.8896e-04 - mae: 0.0226\n",
            "Epoch 120/200\n",
            "2/2 [==============================] - 0s 8ms/step - loss: 6.4288e-04 - mae: 0.0219\n",
            "Epoch 121/200\n",
            "2/2 [==============================] - 0s 9ms/step - loss: 5.8561e-04 - mae: 0.0209\n",
            "Epoch 122/200\n",
            "2/2 [==============================] - 0s 7ms/step - loss: 5.4356e-04 - mae: 0.0202\n",
            "Epoch 123/200\n",
            "2/2 [==============================] - 0s 10ms/step - loss: 4.9886e-04 - mae: 0.0192\n",
            "Epoch 124/200\n",
            "2/2 [==============================] - 0s 5ms/step - loss: 4.4991e-04 - mae: 0.0182\n",
            "Epoch 125/200\n",
            "2/2 [==============================] - 0s 5ms/step - loss: 4.0855e-04 - mae: 0.0175\n",
            "Epoch 126/200\n",
            "2/2 [==============================] - 0s 6ms/step - loss: 3.7710e-04 - mae: 0.0167\n",
            "Epoch 127/200\n",
            "2/2 [==============================] - 0s 6ms/step - loss: 3.4593e-04 - mae: 0.0160\n",
            "Epoch 128/200\n",
            "2/2 [==============================] - 0s 6ms/step - loss: 3.2180e-04 - mae: 0.0154\n",
            "Epoch 129/200\n",
            "2/2 [==============================] - 0s 9ms/step - loss: 2.9311e-04 - mae: 0.0146\n",
            "Epoch 130/200\n",
            "2/2 [==============================] - 0s 6ms/step - loss: 2.7698e-04 - mae: 0.0144\n",
            "Epoch 131/200\n",
            "2/2 [==============================] - 0s 6ms/step - loss: 2.4867e-04 - mae: 0.0137\n",
            "Epoch 132/200\n",
            "2/2 [==============================] - 0s 7ms/step - loss: 2.3064e-04 - mae: 0.0131\n",
            "Epoch 133/200\n",
            "2/2 [==============================] - 0s 6ms/step - loss: 2.1087e-04 - mae: 0.0123\n",
            "Epoch 134/200\n",
            "2/2 [==============================] - 0s 7ms/step - loss: 1.9156e-04 - mae: 0.0118\n",
            "Epoch 135/200\n",
            "2/2 [==============================] - 0s 8ms/step - loss: 1.7464e-04 - mae: 0.0114\n",
            "Epoch 136/200\n",
            "2/2 [==============================] - 0s 8ms/step - loss: 1.5966e-04 - mae: 0.0109\n",
            "Epoch 137/200\n",
            "2/2 [==============================] - 0s 9ms/step - loss: 1.4670e-04 - mae: 0.0104\n",
            "Epoch 138/200\n",
            "2/2 [==============================] - 0s 8ms/step - loss: 1.3429e-04 - mae: 0.0100\n",
            "Epoch 139/200\n",
            "2/2 [==============================] - 0s 11ms/step - loss: 1.2299e-04 - mae: 0.0095\n",
            "Epoch 140/200\n",
            "2/2 [==============================] - 0s 8ms/step - loss: 1.1311e-04 - mae: 0.0091\n",
            "Epoch 141/200\n",
            "2/2 [==============================] - 0s 6ms/step - loss: 1.0414e-04 - mae: 0.0087\n",
            "Epoch 142/200\n",
            "2/2 [==============================] - 0s 6ms/step - loss: 9.5796e-05 - mae: 0.0084\n",
            "Epoch 143/200\n",
            "2/2 [==============================] - 0s 6ms/step - loss: 8.7738e-05 - mae: 0.0080\n",
            "Epoch 144/200\n",
            "2/2 [==============================] - 0s 6ms/step - loss: 8.1071e-05 - mae: 0.0077\n",
            "Epoch 145/200\n",
            "2/2 [==============================] - 0s 6ms/step - loss: 7.5224e-05 - mae: 0.0075\n",
            "Epoch 146/200\n",
            "2/2 [==============================] - 0s 6ms/step - loss: 7.0996e-05 - mae: 0.0071\n",
            "Epoch 147/200\n",
            "2/2 [==============================] - 0s 6ms/step - loss: 6.4919e-05 - mae: 0.0070\n",
            "Epoch 148/200\n",
            "2/2 [==============================] - 0s 6ms/step - loss: 5.8247e-05 - mae: 0.0066\n",
            "Epoch 149/200\n",
            "2/2 [==============================] - 0s 9ms/step - loss: 5.3424e-05 - mae: 0.0063\n",
            "Epoch 150/200\n",
            "2/2 [==============================] - 0s 7ms/step - loss: 4.8522e-05 - mae: 0.0060\n",
            "Epoch 151/200\n",
            "2/2 [==============================] - 0s 10ms/step - loss: 4.5413e-05 - mae: 0.0058\n",
            "Epoch 152/200\n",
            "2/2 [==============================] - 0s 6ms/step - loss: 4.1325e-05 - mae: 0.0054\n",
            "Epoch 153/200\n",
            "2/2 [==============================] - 0s 6ms/step - loss: 3.6976e-05 - mae: 0.0053\n",
            "Epoch 154/200\n",
            "2/2 [==============================] - 0s 6ms/step - loss: 3.3794e-05 - mae: 0.0050\n",
            "Epoch 155/200\n",
            "2/2 [==============================] - 0s 6ms/step - loss: 3.1063e-05 - mae: 0.0048\n",
            "Epoch 156/200\n",
            "2/2 [==============================] - 0s 6ms/step - loss: 2.8499e-05 - mae: 0.0046\n",
            "Epoch 157/200\n",
            "2/2 [==============================] - 0s 6ms/step - loss: 2.6460e-05 - mae: 0.0044\n",
            "Epoch 158/200\n",
            "2/2 [==============================] - 0s 6ms/step - loss: 2.4035e-05 - mae: 0.0042\n",
            "Epoch 159/200\n",
            "2/2 [==============================] - 0s 6ms/step - loss: 2.2165e-05 - mae: 0.0040\n",
            "Epoch 160/200\n",
            "2/2 [==============================] - 0s 6ms/step - loss: 2.0392e-05 - mae: 0.0039\n",
            "Epoch 161/200\n",
            "2/2 [==============================] - 0s 6ms/step - loss: 1.8682e-05 - mae: 0.0037\n",
            "Epoch 162/200\n",
            "2/2 [==============================] - 0s 6ms/step - loss: 1.7031e-05 - mae: 0.0035\n",
            "Epoch 163/200\n",
            "2/2 [==============================] - 0s 6ms/step - loss: 1.5652e-05 - mae: 0.0034\n",
            "Epoch 164/200\n",
            "2/2 [==============================] - 0s 6ms/step - loss: 1.4595e-05 - mae: 0.0033\n",
            "Epoch 165/200\n",
            "2/2 [==============================] - 0s 6ms/step - loss: 1.3288e-05 - mae: 0.0031\n",
            "Epoch 166/200\n",
            "2/2 [==============================] - 0s 6ms/step - loss: 1.2137e-05 - mae: 0.0030\n",
            "Epoch 167/200\n",
            "2/2 [==============================] - 0s 5ms/step - loss: 1.1179e-05 - mae: 0.0029\n",
            "Epoch 168/200\n",
            "2/2 [==============================] - 0s 6ms/step - loss: 1.0290e-05 - mae: 0.0027\n",
            "Epoch 169/200\n",
            "2/2 [==============================] - 0s 8ms/step - loss: 9.4580e-06 - mae: 0.0027\n",
            "Epoch 170/200\n",
            "2/2 [==============================] - 0s 6ms/step - loss: 8.7593e-06 - mae: 0.0025\n",
            "Epoch 171/200\n",
            "2/2 [==============================] - 0s 7ms/step - loss: 7.9820e-06 - mae: 0.0024\n",
            "Epoch 172/200\n",
            "2/2 [==============================] - 0s 7ms/step - loss: 7.4645e-06 - mae: 0.0023\n",
            "Epoch 173/200\n",
            "2/2 [==============================] - 0s 5ms/step - loss: 6.7734e-06 - mae: 0.0022\n",
            "Epoch 174/200\n",
            "2/2 [==============================] - 0s 5ms/step - loss: 6.1881e-06 - mae: 0.0021\n",
            "Epoch 175/200\n",
            "2/2 [==============================] - 0s 6ms/step - loss: 5.6687e-06 - mae: 0.0020\n",
            "Epoch 176/200\n",
            "2/2 [==============================] - 0s 7ms/step - loss: 5.2148e-06 - mae: 0.0020\n",
            "Epoch 177/200\n",
            "2/2 [==============================] - 0s 6ms/step - loss: 4.7784e-06 - mae: 0.0019\n",
            "Epoch 178/200\n",
            "2/2 [==============================] - 0s 7ms/step - loss: 4.5839e-06 - mae: 0.0018\n",
            "Epoch 179/200\n",
            "2/2 [==============================] - 0s 7ms/step - loss: 4.1202e-06 - mae: 0.0017\n",
            "Epoch 180/200\n",
            "2/2 [==============================] - 0s 6ms/step - loss: 3.6732e-06 - mae: 0.0016\n",
            "Epoch 181/200\n",
            "2/2 [==============================] - 0s 5ms/step - loss: 3.3810e-06 - mae: 0.0016\n",
            "Epoch 182/200\n",
            "2/2 [==============================] - 0s 6ms/step - loss: 3.1053e-06 - mae: 0.0015\n",
            "Epoch 183/200\n",
            "2/2 [==============================] - 0s 6ms/step - loss: 2.8756e-06 - mae: 0.0014\n",
            "Epoch 184/200\n",
            "2/2 [==============================] - 0s 16ms/step - loss: 2.6114e-06 - mae: 0.0014\n",
            "Epoch 185/200\n",
            "2/2 [==============================] - 0s 6ms/step - loss: 2.4096e-06 - mae: 0.0013\n",
            "Epoch 186/200\n",
            "2/2 [==============================] - 0s 7ms/step - loss: 2.3068e-06 - mae: 0.0013\n",
            "Epoch 187/200\n",
            "2/2 [==============================] - 0s 6ms/step - loss: 2.1082e-06 - mae: 0.0013\n",
            "Epoch 188/200\n",
            "2/2 [==============================] - 0s 5ms/step - loss: 1.8601e-06 - mae: 0.0012\n",
            "Epoch 189/200\n",
            "2/2 [==============================] - 0s 5ms/step - loss: 1.7682e-06 - mae: 0.0011\n",
            "Epoch 190/200\n",
            "2/2 [==============================] - 0s 6ms/step - loss: 1.5897e-06 - mae: 0.0011\n",
            "Epoch 191/200\n",
            "2/2 [==============================] - 0s 7ms/step - loss: 1.4779e-06 - mae: 0.0010\n",
            "Epoch 192/200\n",
            "2/2 [==============================] - 0s 6ms/step - loss: 1.3282e-06 - mae: 9.8948e-04\n",
            "Epoch 193/200\n",
            "2/2 [==============================] - 0s 6ms/step - loss: 1.2078e-06 - mae: 9.5043e-04\n",
            "Epoch 194/200\n",
            "2/2 [==============================] - 0s 5ms/step - loss: 1.1330e-06 - mae: 9.0382e-04\n",
            "Epoch 195/200\n",
            "2/2 [==============================] - 0s 7ms/step - loss: 1.0255e-06 - mae: 8.6884e-04\n",
            "Epoch 196/200\n",
            "2/2 [==============================] - 0s 7ms/step - loss: 9.2956e-07 - mae: 8.3033e-04\n",
            "Epoch 197/200\n",
            "2/2 [==============================] - 0s 7ms/step - loss: 8.4840e-07 - mae: 7.9222e-04\n",
            "Epoch 198/200\n",
            "2/2 [==============================] - 0s 8ms/step - loss: 7.8057e-07 - mae: 7.5706e-04\n",
            "Epoch 199/200\n",
            "2/2 [==============================] - 0s 8ms/step - loss: 7.2099e-07 - mae: 7.2854e-04\n",
            "Epoch 200/200\n",
            "2/2 [==============================] - 0s 9ms/step - loss: 6.5693e-07 - mae: 6.9731e-04\n",
            "CPU times: user 3.53 s, sys: 214 ms, total: 3.74 s\n",
            "Wall time: 4.03 s\n"
          ]
        },
        {
          "output_type": "execute_result",
          "data": {
            "text/plain": [
              "<keras.callbacks.History at 0x7f6b69f2ec50>"
            ]
          },
          "metadata": {},
          "execution_count": 37
        }
      ]
    },
    {
      "cell_type": "markdown",
      "source": [
        "Сеть обучается, ошибка падает, метрика становится лучше, всё замечательно.\n",
        "\n",
        "Теперь проверим, а как модель работает на новых данных."
      ],
      "metadata": {
        "id": "tNfv4XxBbqhv"
      }
    },
    {
      "cell_type": "code",
      "source": [
        "test_X = [[4, 2],\n",
        "          [6, 2]]\n",
        "test_X = mms.transform(test_X)\n",
        "print(\"Предсказание нейронной сети: \")\n",
        "print(model.predict(np.array(test_X)))"
      ],
      "metadata": {
        "colab": {
          "base_uri": "https://localhost:8080/"
        },
        "outputId": "d9bf324e-8710-4f2d-cecc-14456450d47f",
        "id": "_c2igAtsbqhv"
      },
      "execution_count": null,
      "outputs": [
        {
          "output_type": "stream",
          "name": "stdout",
          "text": [
            "Предсказание нейронной сети: \n",
            "[[6.00076 ]\n",
            " [8.000181]]\n"
          ]
        }
      ]
    },
    {
      "cell_type": "markdown",
      "source": [
        "Предсказания очень похожи на истину."
      ],
      "metadata": {
        "id": "YnqP0EUUbqhv"
      }
    },
    {
      "cell_type": "markdown",
      "source": [
        "И проверимся на всех обучающих данных."
      ],
      "metadata": {
        "id": "p4OVXPaIbqhv"
      }
    },
    {
      "cell_type": "code",
      "source": [
        "import pandas as pd\n",
        "\n",
        "pd.DataFrame({\n",
        "    'x1': X[:, 0],\n",
        "    'x2': X[:, 1],\n",
        "    'true': np.squeeze(y),\n",
        "    'pred': np.squeeze(model.predict(X_norm))\n",
        "}).head(10)"
      ],
      "metadata": {
        "colab": {
          "base_uri": "https://localhost:8080/",
          "height": 363
        },
        "outputId": "f0a5743c-2984-416d-c3d8-0c45fabf2189",
        "id": "GIUnd40Ibqhv"
      },
      "execution_count": null,
      "outputs": [
        {
          "output_type": "execute_result",
          "data": {
            "text/plain": [
              "   x1  x2  true       pred\n",
              "0   8   1     9   8.999714\n",
              "1   5   9    14  13.999690\n",
              "2   7   5    12  11.999557\n",
              "3   4   9    13  12.999980\n",
              "4   7   5    12  11.999557\n",
              "5   7   4    11  10.999668\n",
              "6   3   7    10  10.000491\n",
              "7   5   4     9   9.000247\n",
              "8   9   7    16  15.998755\n",
              "9   6   8    14  13.999512"
            ],
            "text/html": [
              "\n",
              "  <div id=\"df-5e689ba8-4ec0-45da-886f-c867ae24c5c6\">\n",
              "    <div class=\"colab-df-container\">\n",
              "      <div>\n",
              "<style scoped>\n",
              "    .dataframe tbody tr th:only-of-type {\n",
              "        vertical-align: middle;\n",
              "    }\n",
              "\n",
              "    .dataframe tbody tr th {\n",
              "        vertical-align: top;\n",
              "    }\n",
              "\n",
              "    .dataframe thead th {\n",
              "        text-align: right;\n",
              "    }\n",
              "</style>\n",
              "<table border=\"1\" class=\"dataframe\">\n",
              "  <thead>\n",
              "    <tr style=\"text-align: right;\">\n",
              "      <th></th>\n",
              "      <th>x1</th>\n",
              "      <th>x2</th>\n",
              "      <th>true</th>\n",
              "      <th>pred</th>\n",
              "    </tr>\n",
              "  </thead>\n",
              "  <tbody>\n",
              "    <tr>\n",
              "      <th>0</th>\n",
              "      <td>8</td>\n",
              "      <td>1</td>\n",
              "      <td>9</td>\n",
              "      <td>8.999714</td>\n",
              "    </tr>\n",
              "    <tr>\n",
              "      <th>1</th>\n",
              "      <td>5</td>\n",
              "      <td>9</td>\n",
              "      <td>14</td>\n",
              "      <td>13.999690</td>\n",
              "    </tr>\n",
              "    <tr>\n",
              "      <th>2</th>\n",
              "      <td>7</td>\n",
              "      <td>5</td>\n",
              "      <td>12</td>\n",
              "      <td>11.999557</td>\n",
              "    </tr>\n",
              "    <tr>\n",
              "      <th>3</th>\n",
              "      <td>4</td>\n",
              "      <td>9</td>\n",
              "      <td>13</td>\n",
              "      <td>12.999980</td>\n",
              "    </tr>\n",
              "    <tr>\n",
              "      <th>4</th>\n",
              "      <td>7</td>\n",
              "      <td>5</td>\n",
              "      <td>12</td>\n",
              "      <td>11.999557</td>\n",
              "    </tr>\n",
              "    <tr>\n",
              "      <th>5</th>\n",
              "      <td>7</td>\n",
              "      <td>4</td>\n",
              "      <td>11</td>\n",
              "      <td>10.999668</td>\n",
              "    </tr>\n",
              "    <tr>\n",
              "      <th>6</th>\n",
              "      <td>3</td>\n",
              "      <td>7</td>\n",
              "      <td>10</td>\n",
              "      <td>10.000491</td>\n",
              "    </tr>\n",
              "    <tr>\n",
              "      <th>7</th>\n",
              "      <td>5</td>\n",
              "      <td>4</td>\n",
              "      <td>9</td>\n",
              "      <td>9.000247</td>\n",
              "    </tr>\n",
              "    <tr>\n",
              "      <th>8</th>\n",
              "      <td>9</td>\n",
              "      <td>7</td>\n",
              "      <td>16</td>\n",
              "      <td>15.998755</td>\n",
              "    </tr>\n",
              "    <tr>\n",
              "      <th>9</th>\n",
              "      <td>6</td>\n",
              "      <td>8</td>\n",
              "      <td>14</td>\n",
              "      <td>13.999512</td>\n",
              "    </tr>\n",
              "  </tbody>\n",
              "</table>\n",
              "</div>\n",
              "      <button class=\"colab-df-convert\" onclick=\"convertToInteractive('df-5e689ba8-4ec0-45da-886f-c867ae24c5c6')\"\n",
              "              title=\"Convert this dataframe to an interactive table.\"\n",
              "              style=\"display:none;\">\n",
              "        \n",
              "  <svg xmlns=\"http://www.w3.org/2000/svg\" height=\"24px\"viewBox=\"0 0 24 24\"\n",
              "       width=\"24px\">\n",
              "    <path d=\"M0 0h24v24H0V0z\" fill=\"none\"/>\n",
              "    <path d=\"M18.56 5.44l.94 2.06.94-2.06 2.06-.94-2.06-.94-.94-2.06-.94 2.06-2.06.94zm-11 1L8.5 8.5l.94-2.06 2.06-.94-2.06-.94L8.5 2.5l-.94 2.06-2.06.94zm10 10l.94 2.06.94-2.06 2.06-.94-2.06-.94-.94-2.06-.94 2.06-2.06.94z\"/><path d=\"M17.41 7.96l-1.37-1.37c-.4-.4-.92-.59-1.43-.59-.52 0-1.04.2-1.43.59L10.3 9.45l-7.72 7.72c-.78.78-.78 2.05 0 2.83L4 21.41c.39.39.9.59 1.41.59.51 0 1.02-.2 1.41-.59l7.78-7.78 2.81-2.81c.8-.78.8-2.07 0-2.86zM5.41 20L4 18.59l7.72-7.72 1.47 1.35L5.41 20z\"/>\n",
              "  </svg>\n",
              "      </button>\n",
              "      \n",
              "  <style>\n",
              "    .colab-df-container {\n",
              "      display:flex;\n",
              "      flex-wrap:wrap;\n",
              "      gap: 12px;\n",
              "    }\n",
              "\n",
              "    .colab-df-convert {\n",
              "      background-color: #E8F0FE;\n",
              "      border: none;\n",
              "      border-radius: 50%;\n",
              "      cursor: pointer;\n",
              "      display: none;\n",
              "      fill: #1967D2;\n",
              "      height: 32px;\n",
              "      padding: 0 0 0 0;\n",
              "      width: 32px;\n",
              "    }\n",
              "\n",
              "    .colab-df-convert:hover {\n",
              "      background-color: #E2EBFA;\n",
              "      box-shadow: 0px 1px 2px rgba(60, 64, 67, 0.3), 0px 1px 3px 1px rgba(60, 64, 67, 0.15);\n",
              "      fill: #174EA6;\n",
              "    }\n",
              "\n",
              "    [theme=dark] .colab-df-convert {\n",
              "      background-color: #3B4455;\n",
              "      fill: #D2E3FC;\n",
              "    }\n",
              "\n",
              "    [theme=dark] .colab-df-convert:hover {\n",
              "      background-color: #434B5C;\n",
              "      box-shadow: 0px 1px 3px 1px rgba(0, 0, 0, 0.15);\n",
              "      filter: drop-shadow(0px 1px 2px rgba(0, 0, 0, 0.3));\n",
              "      fill: #FFFFFF;\n",
              "    }\n",
              "  </style>\n",
              "\n",
              "      <script>\n",
              "        const buttonEl =\n",
              "          document.querySelector('#df-5e689ba8-4ec0-45da-886f-c867ae24c5c6 button.colab-df-convert');\n",
              "        buttonEl.style.display =\n",
              "          google.colab.kernel.accessAllowed ? 'block' : 'none';\n",
              "\n",
              "        async function convertToInteractive(key) {\n",
              "          const element = document.querySelector('#df-5e689ba8-4ec0-45da-886f-c867ae24c5c6');\n",
              "          const dataTable =\n",
              "            await google.colab.kernel.invokeFunction('convertToInteractive',\n",
              "                                                     [key], {});\n",
              "          if (!dataTable) return;\n",
              "\n",
              "          const docLinkHtml = 'Like what you see? Visit the ' +\n",
              "            '<a target=\"_blank\" href=https://colab.research.google.com/notebooks/data_table.ipynb>data table notebook</a>'\n",
              "            + ' to learn more about interactive tables.';\n",
              "          element.innerHTML = '';\n",
              "          dataTable['output_type'] = 'display_data';\n",
              "          await google.colab.output.renderOutput(dataTable, element);\n",
              "          const docLink = document.createElement('div');\n",
              "          docLink.innerHTML = docLinkHtml;\n",
              "          element.appendChild(docLink);\n",
              "        }\n",
              "      </script>\n",
              "    </div>\n",
              "  </div>\n",
              "  "
            ]
          },
          "metadata": {},
          "execution_count": 39
        }
      ]
    },
    {
      "cell_type": "markdown",
      "source": [
        "## Сеть для классификации изображений"
      ],
      "metadata": {
        "id": "dMl_PwDBrLf3"
      }
    },
    {
      "cell_type": "markdown",
      "source": [
        "Подгрузим данные из стандартных датасетов из `keras`.\n",
        "\n",
        "Датасет называется MNIST и представляет из себя черно-белые изображения 28 на 28 пикселей."
      ],
      "metadata": {
        "id": "jQ3JsN_PrLf5"
      }
    },
    {
      "cell_type": "code",
      "source": [
        "from keras.datasets import mnist\n",
        "\n",
        "(X_train, y_train), (X_test, y_test) = mnist.load_data()\n",
        "\n",
        "X_train.shape, X_test.shape"
      ],
      "metadata": {
        "colab": {
          "base_uri": "https://localhost:8080/"
        },
        "id": "TALj1QyerYip",
        "outputId": "4a3b8654-f9bd-4e66-acf5-bcaa6eb25b7d"
      },
      "execution_count": null,
      "outputs": [
        {
          "output_type": "execute_result",
          "data": {
            "text/plain": [
              "((60000, 28, 28), (10000, 28, 28))"
            ]
          },
          "metadata": {},
          "execution_count": 199
        }
      ]
    },
    {
      "cell_type": "code",
      "source": [
        "X_train[0].shape"
      ],
      "metadata": {
        "colab": {
          "base_uri": "https://localhost:8080/"
        },
        "id": "OvJVT5FDrzPq",
        "outputId": "e7fbd6c3-2d1d-4f5b-f894-914fa649f466"
      },
      "execution_count": null,
      "outputs": [
        {
          "output_type": "execute_result",
          "data": {
            "text/plain": [
              "(28, 28)"
            ]
          },
          "metadata": {},
          "execution_count": 200
        }
      ]
    },
    {
      "cell_type": "code",
      "source": [
        "fig, ax = plt.subplots(1, 5, figsize=(15, 10))\n",
        "\n",
        "for i in range(5):\n",
        "    ax[i].imshow(X_train[i], cmap='gray')\n",
        "    ax[i].axis('off')"
      ],
      "metadata": {
        "colab": {
          "base_uri": "https://localhost:8080/",
          "height": 175
        },
        "id": "CdFJtQUQy0or",
        "outputId": "60846de2-f578-4e03-f48f-10ae5ac329cc"
      },
      "execution_count": null,
      "outputs": [
        {
          "output_type": "display_data",
          "data": {
            "text/plain": [
              "<Figure size 1080x720 with 5 Axes>"
            ],
            "image/png": "[encoded data removed]"
          },
          "metadata": {
            "needs_background": "light"
          }
        }
      ]
    },
    {
      "cell_type": "code",
      "source": [
        "y_train[:5]"
      ],
      "metadata": {
        "colab": {
          "base_uri": "https://localhost:8080/"
        },
        "outputId": "3b5c574b-8916-458d-c40c-affd8f1f5e48",
        "id": "SLYR6H1brLf6"
      },
      "execution_count": null,
      "outputs": [
        {
          "output_type": "execute_result",
          "data": {
            "text/plain": [
              "array([5, 0, 4, 1, 9], dtype=uint8)"
            ]
          },
          "metadata": {},
          "execution_count": 202
        }
      ]
    },
    {
      "cell_type": "markdown",
      "source": [
        "Но давайте упростим себе задачу и возьмем для обучения только два класса, чтобы сделать задачу бинарной классификации."
      ],
      "metadata": {
        "id": "Uqafao750wfc"
      }
    },
    {
      "cell_type": "code",
      "source": [
        "idxs = np.where((y_train == 0) | (y_train == 1))\n",
        "y_train = y_train[idxs]"
      ],
      "metadata": {
        "id": "k-2c7wJ40UfB"
      },
      "execution_count": null,
      "outputs": []
    },
    {
      "cell_type": "code",
      "source": [
        "X_train = X_train[idxs]"
      ],
      "metadata": {
        "id": "7mE2dASL0tfI"
      },
      "execution_count": null,
      "outputs": []
    },
    {
      "cell_type": "code",
      "source": [
        "X_train.shape, y_train.shape"
      ],
      "metadata": {
        "colab": {
          "base_uri": "https://localhost:8080/"
        },
        "id": "uf6sxEBK05sv",
        "outputId": "0e64e9f9-bca9-4fa6-a717-82f79d108bd4"
      },
      "execution_count": null,
      "outputs": [
        {
          "output_type": "execute_result",
          "data": {
            "text/plain": [
              "((12665, 28, 28), (12665,))"
            ]
          },
          "metadata": {},
          "execution_count": 205
        }
      ]
    },
    {
      "cell_type": "markdown",
      "source": [
        "И тоже самое для теста."
      ],
      "metadata": {
        "id": "Uwfrh9Os0_TE"
      }
    },
    {
      "cell_type": "code",
      "source": [
        "idxs = np.where((y_test == 0) | (y_test == 1))\n",
        "y_test = y_test[idxs]\n",
        "\n",
        "X_test = X_test[idxs]\n",
        "\n",
        "X_test.shape, y_test.shape"
      ],
      "metadata": {
        "colab": {
          "base_uri": "https://localhost:8080/"
        },
        "id": "_aXF2MFw1Avv",
        "outputId": "260ed055-05e7-40cc-e2e5-d0969f9ba887"
      },
      "execution_count": null,
      "outputs": [
        {
          "output_type": "execute_result",
          "data": {
            "text/plain": [
              "((2115, 28, 28), (2115,))"
            ]
          },
          "metadata": {},
          "execution_count": 206
        }
      ]
    },
    {
      "cell_type": "markdown",
      "source": [
        "Убедимся, что теперь у нас только 0, либо 1."
      ],
      "metadata": {
        "id": "AHTXRcF5-jdc"
      }
    },
    {
      "cell_type": "code",
      "source": [
        "fig, ax = plt.subplots(1, 5, figsize=(15, 10))\n",
        "\n",
        "for i in range(5):\n",
        "    ax[i].imshow(X_train[i], cmap='gray')\n",
        "    ax[i].axis('off')"
      ],
      "metadata": {
        "colab": {
          "base_uri": "https://localhost:8080/",
          "height": 175
        },
        "id": "icacSfk21L7E",
        "outputId": "81ccf4e0-7a92-4eef-e765-e5365131319f"
      },
      "execution_count": null,
      "outputs": [
        {
          "output_type": "display_data",
          "data": {
            "text/plain": [
              "<Figure size 1080x720 with 5 Axes>"
            ],
            "image/png": "[encoded data removed]"
          },
          "metadata": {
            "needs_background": "light"
          }
        }
      ]
    },
    {
      "cell_type": "code",
      "source": [
        "y_train[:5]"
      ],
      "metadata": {
        "colab": {
          "base_uri": "https://localhost:8080/"
        },
        "id": "7nEFHn_A1Nar",
        "outputId": "8b918e7b-93eb-4ded-fcd0-7f7f46439ff1"
      },
      "execution_count": null,
      "outputs": [
        {
          "output_type": "execute_result",
          "data": {
            "text/plain": [
              "array([0, 1, 1, 1, 1], dtype=uint8)"
            ]
          },
          "metadata": {},
          "execution_count": 210
        }
      ]
    },
    {
      "cell_type": "markdown",
      "source": [
        "Нормируем данные, сейчас обойдемся без `MinMaxScaler` из `sklearn`, а воспользуемся делением на 255, т.к. сейчас изображения представлены пикселями в диапазоне от 0 до 255, а для нейросети комфортней обучаться на диапазоне от 0 до 1."
      ],
      "metadata": {
        "id": "gjJV8oXFrLf7"
      }
    },
    {
      "cell_type": "code",
      "source": [
        "print(X_train.min(), X_train.max())\n",
        "\n",
        "X_train = X_train / 255.0\n",
        "X_test = X_test / 255.0\n",
        "\n",
        "print(X_train.min(), X_train.max())"
      ],
      "metadata": {
        "colab": {
          "base_uri": "https://localhost:8080/"
        },
        "id": "RADeSMbdrLf7",
        "outputId": "1a1d981c-8311-439d-a8ac-7ad9528c222a"
      },
      "execution_count": null,
      "outputs": [
        {
          "output_type": "stream",
          "name": "stdout",
          "text": [
            "0 255\n",
            "0.0 1.0\n"
          ]
        }
      ]
    },
    {
      "cell_type": "markdown",
      "source": [
        "Так же нужно видоизменить метку класса, сейчас это лейблы 0 или 1, нужно преобразовать в бинарный вид.\n",
        "\n",
        "Тем самым получаем 2 столбика, где первый - это метка является ли изображение 0 классом, а второй столбик - является ли изображение 1 классом."
      ],
      "metadata": {
        "id": "1J1-UKso2hv-"
      }
    },
    {
      "cell_type": "code",
      "source": [
        "from keras.utils.np_utils import to_categorical\n",
        "\n",
        "y_train_cat = to_categorical(y_train)\n",
        "y_test_cat = to_categorical(y_test)\n",
        "\n",
        "y_train[:5]"
      ],
      "metadata": {
        "colab": {
          "base_uri": "https://localhost:8080/"
        },
        "id": "VtEYAHdF2ru5",
        "outputId": "d664a9ef-cdd4-432b-b0f6-4ee51ce303db"
      },
      "execution_count": null,
      "outputs": [
        {
          "output_type": "execute_result",
          "data": {
            "text/plain": [
              "array([0, 1, 1, 1, 1], dtype=uint8)"
            ]
          },
          "metadata": {},
          "execution_count": 212
        }
      ]
    },
    {
      "cell_type": "markdown",
      "source": [
        "А чтобы еще легче обучать сетку поменяем масштаб изображений, сейчас они 28 на 28, сделаем меньше, чтобы нейросеть была легче."
      ],
      "metadata": {
        "id": "-oI0t1eC8UWb"
      }
    },
    {
      "cell_type": "code",
      "source": [
        "X_train[..., np.newaxis].shape"
      ],
      "metadata": {
        "colab": {
          "base_uri": "https://localhost:8080/"
        },
        "id": "XRbxRxLm9ERn",
        "outputId": "b6f1b7f5-0513-4c7c-efeb-990cbd4ca3ab"
      },
      "execution_count": null,
      "outputs": [
        {
          "output_type": "execute_result",
          "data": {
            "text/plain": [
              "(12665, 28, 28, 1)"
            ]
          },
          "metadata": {},
          "execution_count": 213
        }
      ]
    },
    {
      "cell_type": "code",
      "source": [
        "import matplotlib.pyplot as plt\n",
        "\n",
        "\n",
        "X_train_resized = tf.image.resize(X_train[..., np.newaxis], (6, 6))[..., 0]\n",
        "X_test_resized = tf.image.resize(X_test[..., np.newaxis], (6, 6))[..., 0]\n",
        "\n",
        "fig, ax = plt.subplots(1, 5, figsize=(15, 10))\n",
        "\n",
        "for i in range(5):\n",
        "    ax[i].imshow(X_train_resized[i], cmap='gray')\n",
        "    ax[i].axis('off')"
      ],
      "metadata": {
        "colab": {
          "base_uri": "https://localhost:8080/",
          "height": 175
        },
        "id": "2o6DgMm38KzZ",
        "outputId": "17040a95-6b84-44d7-a954-8efe4325d2b1"
      },
      "execution_count": null,
      "outputs": [
        {
          "output_type": "display_data",
          "data": {
            "text/plain": [
              "<Figure size 1080x720 with 5 Axes>"
            ],
            "image/png": "[encoded data removed]"
          },
          "metadata": {
            "needs_background": "light"
          }
        }
      ]
    },
    {
      "cell_type": "markdown",
      "source": [
        "Для того, что обучить нейронную сеть для любой задачи нужно ответить на три вопроса:\n",
        "1. Какая архитектура сети?\n",
        "2. Что оптимизируем?\n",
        "3. Как обучаем?"
      ],
      "metadata": {
        "id": "XxFhSXmjrLf7"
      }
    },
    {
      "cell_type": "markdown",
      "source": [
        "### Какая архитектура сети"
      ],
      "metadata": {
        "id": "tem4xXz_rLf7"
      }
    },
    {
      "cell_type": "markdown",
      "source": [
        "Создадим сеть еще сложнее.\n",
        "\n",
        "Во-первых, на вход поступает изображение 6х6, нужно с ним что-то сделать, так как наша сетку пока не умеет работать с двумерным входом. Здесь нам поможет слой из `keras` `Flatten`, который вытягивает изображение в один вектор, была картинка 6x6, а станет вектором с размерностью 36."
      ],
      "metadata": {
        "id": "EOWph2CPrLf7"
      }
    },
    {
      "cell_type": "markdown",
      "source": [
        "Была матрица:"
      ],
      "metadata": {
        "id": "S7zlRbu9BnCh"
      }
    },
    {
      "cell_type": "code",
      "source": [
        "X_train_resized[0].numpy()"
      ],
      "metadata": {
        "colab": {
          "base_uri": "https://localhost:8080/"
        },
        "id": "w8OGZXR0BlAq",
        "outputId": "f95f7ec4-f908-4552-a2a4-b8b5922fa916"
      },
      "execution_count": null,
      "outputs": [
        {
          "output_type": "execute_result",
          "data": {
            "text/plain": [
              "array([[0.        , 0.        , 0.        , 0.        , 0.        ,\n",
              "        0.        ],\n",
              "       [0.        , 0.        , 0.03594765, 0.9888889 , 0.42941174,\n",
              "        0.        ],\n",
              "       [0.        , 0.00228757, 0.7885626 , 0.        , 0.9901961 ,\n",
              "        0.        ],\n",
              "       [0.        , 0.6558824 , 0.        , 0.        , 0.88235295,\n",
              "        0.        ],\n",
              "       [0.        , 0.66078436, 0.5088234 , 0.72352946, 0.        ,\n",
              "        0.        ],\n",
              "       [0.        , 0.        , 0.        , 0.        , 0.        ,\n",
              "        0.        ]], dtype=float32)"
            ]
          },
          "metadata": {},
          "execution_count": 264
        }
      ]
    },
    {
      "cell_type": "code",
      "source": [
        "X_train_resized[0].numpy().shape"
      ],
      "metadata": {
        "colab": {
          "base_uri": "https://localhost:8080/"
        },
        "id": "XlAY7TcjBVCT",
        "outputId": "023ce8a6-c4c8-43b9-f1f9-9293270dd0de"
      },
      "execution_count": null,
      "outputs": [
        {
          "output_type": "execute_result",
          "data": {
            "text/plain": [
              "(6, 6)"
            ]
          },
          "metadata": {},
          "execution_count": 263
        }
      ]
    },
    {
      "cell_type": "markdown",
      "source": [
        "А теперь вектор:"
      ],
      "metadata": {
        "id": "hx2lP21wBpGH"
      }
    },
    {
      "cell_type": "code",
      "source": [
        "X_train_resized[0].numpy().flatten()"
      ],
      "metadata": {
        "colab": {
          "base_uri": "https://localhost:8080/"
        },
        "id": "Sifs6oRaBmQI",
        "outputId": "e2e3af5a-e7c0-42b1-d1b4-44d19dfb34b0"
      },
      "execution_count": null,
      "outputs": [
        {
          "output_type": "execute_result",
          "data": {
            "text/plain": [
              "array([0.        , 0.        , 0.        , 0.        , 0.        ,\n",
              "       0.        , 0.        , 0.        , 0.03594765, 0.9888889 ,\n",
              "       0.42941174, 0.        , 0.        , 0.00228757, 0.7885626 ,\n",
              "       0.        , 0.9901961 , 0.        , 0.        , 0.6558824 ,\n",
              "       0.        , 0.        , 0.88235295, 0.        , 0.        ,\n",
              "       0.66078436, 0.5088234 , 0.72352946, 0.        , 0.        ,\n",
              "       0.        , 0.        , 0.        , 0.        , 0.        ,\n",
              "       0.        ], dtype=float32)"
            ]
          },
          "metadata": {},
          "execution_count": 265
        }
      ]
    },
    {
      "cell_type": "code",
      "source": [
        "X_train_resized[0].numpy().flatten().shape"
      ],
      "metadata": {
        "colab": {
          "base_uri": "https://localhost:8080/"
        },
        "id": "wT_mBILMBbKO",
        "outputId": "42a6cf7d-8a22-493f-81d8-eeff8c98d78a"
      },
      "execution_count": null,
      "outputs": [
        {
          "output_type": "execute_result",
          "data": {
            "text/plain": [
              "(36,)"
            ]
          },
          "metadata": {},
          "execution_count": 262
        }
      ]
    },
    {
      "cell_type": "markdown",
      "source": [
        "Во-вторых, на выходе не что-то одно, а две вероятности быть или не быть определенным классом.\n",
        "\n",
        "А значит на выходе имеем два нейрона, каждый из которых отвечает за класс."
      ],
      "metadata": {
        "id": "NX0Wjec0BUf0"
      }
    },
    {
      "cell_type": "markdown",
      "source": [
        "<img src='https://drive.google.com/uc?id=1BQbGhOqu8rgv25QbyHe6qljE-koEm103' width=500>"
      ],
      "metadata": {
        "id": "LxLqY_5NCHy9"
      }
    },
    {
      "cell_type": "markdown",
      "source": [
        "В-третьих, на выходном слое нужно использовать другую функцию активации, а именно sigmoid, так как она позволяет решать задачу бинарной классификации очень хорошо."
      ],
      "metadata": {
        "id": "UI2EmZawrLf8"
      }
    },
    {
      "cell_type": "code",
      "source": [
        "from keras.layers import Flatten\n",
        "tf.random.set_seed(9)\n",
        "\n",
        "model = Sequential([\n",
        "    Flatten(input_shape=(6, 6)),\n",
        "    Dense(2, activation='sigmoid')\n",
        "])\n",
        "\n",
        "model.summary()"
      ],
      "metadata": {
        "colab": {
          "base_uri": "https://localhost:8080/"
        },
        "outputId": "223b0c77-7de2-4524-939c-4f9dfdd9dee3",
        "id": "heddDO5IrLf8"
      },
      "execution_count": null,
      "outputs": [
        {
          "output_type": "stream",
          "name": "stdout",
          "text": [
            "Model: \"sequential_32\"\n",
            "_________________________________________________________________\n",
            " Layer (type)                Output Shape              Param #   \n",
            "=================================================================\n",
            " flatten_23 (Flatten)        (None, 36)                0         \n",
            "                                                                 \n",
            " dense_51 (Dense)            (None, 2)                 74        \n",
            "                                                                 \n",
            "=================================================================\n",
            "Total params: 74\n",
            "Trainable params: 74\n",
            "Non-trainable params: 0\n",
            "_________________________________________________________________\n"
          ]
        }
      ]
    },
    {
      "cell_type": "markdown",
      "source": [
        "Считаем количество весов.\n",
        "\n",
        "Для одного нейрона - 36 входов, плюс 1 bias. Для второго нейрона тоже самое.\n",
        "\n",
        "А значит, (36 + 1) * 2 = 74 настраиваемых весов."
      ],
      "metadata": {
        "id": "0BKwDdZ4rLf9"
      }
    },
    {
      "cell_type": "markdown",
      "source": [
        "### Что оптимизируем\n",
        "\n",
        "У нас задача бинарной классификации, поэтому берем функцию потерь, которая подходит сюда.\n",
        "\n",
        "Это к примеру, бинарная кросс-энтропия.\n",
        "\n",
        "А еще будем считать метрику классификации accuracy, если требуется вспомнить метрики качества для классификации, то советую вам посмотреть данный [плейлист](https://youtube.com/playlist?list=PLkJJmZ1EJno6CLyvD4DHc32Fed6cPBHje).\n",
        "\n",
        "<img src='https://drive.google.com/uc?id=19yZ9EcChO0wMe2bsGrjHS79SlkgeH3Ye'>"
      ],
      "metadata": {
        "id": "3-83o1dhrLf9"
      }
    },
    {
      "cell_type": "markdown",
      "source": [
        "### Как оптимизируем\n",
        "\n",
        "Возьмем тот же самый градиентный спуск со стохастикой."
      ],
      "metadata": {
        "id": "RCpfxN4krLf-"
      }
    },
    {
      "cell_type": "code",
      "source": [
        "model.compile(optimizer='sgd', loss='binary_crossentropy', metrics='accuracy')"
      ],
      "metadata": {
        "id": "aew4ofQSrLf-"
      },
      "execution_count": null,
      "outputs": []
    },
    {
      "cell_type": "code",
      "source": [
        "%%time\n",
        "model.fit(X_train_resized, y_train_cat, epochs=5)"
      ],
      "metadata": {
        "colab": {
          "base_uri": "https://localhost:8080/"
        },
        "outputId": "1462d3a3-885b-4050-d638-66b94cfa6b5f",
        "id": "WBzBYAchrLf-"
      },
      "execution_count": null,
      "outputs": [
        {
          "output_type": "stream",
          "name": "stdout",
          "text": [
            "Epoch 1/5\n",
            "396/396 [==============================] - 1s 2ms/step - loss: 0.6321 - accuracy: 0.8079\n",
            "Epoch 2/5\n",
            "396/396 [==============================] - 1s 2ms/step - loss: 0.4760 - accuracy: 0.9671\n",
            "Epoch 3/5\n",
            "396/396 [==============================] - 1s 2ms/step - loss: 0.3888 - accuracy: 0.9747\n",
            "Epoch 4/5\n",
            "396/396 [==============================] - 1s 2ms/step - loss: 0.3318 - accuracy: 0.9765\n",
            "Epoch 5/5\n",
            "396/396 [==============================] - 1s 2ms/step - loss: 0.2918 - accuracy: 0.9768\n",
            "CPU times: user 4.08 s, sys: 215 ms, total: 4.3 s\n",
            "Wall time: 5.52 s\n"
          ]
        },
        {
          "output_type": "execute_result",
          "data": {
            "text/plain": [
              "<keras.callbacks.History at 0x7f6b6c44eb50>"
            ]
          },
          "metadata": {},
          "execution_count": 270
        }
      ]
    },
    {
      "cell_type": "markdown",
      "source": [
        "Сеть обучается, ошибка падает, метрика становится лучше, всё замечательно.\n",
        "\n",
        "Теперь проверим, а как модель работает на новых данных."
      ],
      "metadata": {
        "id": "9kX47CoHrLf_"
      }
    },
    {
      "cell_type": "markdown",
      "source": [
        "На выходе модель дает 2 вероятности:\n",
        "1. Быть нулевым классом\n",
        "2. Быть первым классом\n",
        "\n",
        "Для выбранного объекта вероятность быть первым классом гораздо выше, чем вероятность быть нулевым классом."
      ],
      "metadata": {
        "id": "-yMPaO0i92Da"
      }
    },
    {
      "cell_type": "code",
      "source": [
        "print(\"Предсказание нейронной сети: \")\n",
        "pred = model.predict(X_test_resized[:1])\n",
        "pred"
      ],
      "metadata": {
        "colab": {
          "base_uri": "https://localhost:8080/"
        },
        "outputId": "0fb2ede7-c627-4965-89ae-860686a58218",
        "id": "kj_cxee_rLf_"
      },
      "execution_count": null,
      "outputs": [
        {
          "output_type": "stream",
          "name": "stdout",
          "text": [
            "Предсказание нейронной сети: \n"
          ]
        },
        {
          "output_type": "execute_result",
          "data": {
            "text/plain": [
              "array([[0.23196417, 0.779374  ]], dtype=float32)"
            ]
          },
          "metadata": {},
          "execution_count": 228
        }
      ]
    },
    {
      "cell_type": "markdown",
      "source": [
        "Для того, чтобы выдать финальную метку класса можем взять класс, где максимальная предсказанная вероятность."
      ],
      "metadata": {
        "id": "m6depfQz_KBL"
      }
    },
    {
      "cell_type": "code",
      "source": [
        "pred_cls = pred.argmax()\n",
        "pred_cls"
      ],
      "metadata": {
        "colab": {
          "base_uri": "https://localhost:8080/"
        },
        "id": "NHyfsh00-8yg",
        "outputId": "0f277503-88ea-45ae-9f65-eb0aaadd4bd3"
      },
      "execution_count": null,
      "outputs": [
        {
          "output_type": "execute_result",
          "data": {
            "text/plain": [
              "1"
            ]
          },
          "metadata": {},
          "execution_count": 230
        }
      ]
    },
    {
      "cell_type": "markdown",
      "source": [
        "Давайте проверим предсказание визуально."
      ],
      "metadata": {
        "id": "mOP-ZZh5_Q0h"
      }
    },
    {
      "cell_type": "code",
      "source": [
        "idx = 0\n",
        "plt.imshow(X_test_resized[idx])\n",
        "plt.title(f'pred {pred_cls}, true {y_test[idx]}');"
      ],
      "metadata": {
        "colab": {
          "base_uri": "https://localhost:8080/",
          "height": 281
        },
        "id": "LlYYEi7S-Wb9",
        "outputId": "d4c08b53-00f1-414d-a549-997557f6a955"
      },
      "execution_count": null,
      "outputs": [
        {
          "output_type": "display_data",
          "data": {
            "text/plain": [
              "<Figure size 432x288 with 1 Axes>"
            ],
            "image/png": "[encoded data removed]"
          },
          "metadata": {
            "needs_background": "light"
          }
        }
      ]
    },
    {
      "cell_type": "markdown",
      "source": [
        "А это как выглядило изображение до изменения размера."
      ],
      "metadata": {
        "id": "j0rlw4pc_T8Z"
      }
    },
    {
      "cell_type": "code",
      "source": [
        "plt.imshow(X_test[idx])\n",
        "plt.title(f'pred {pred_cls}, true {y_test[idx]}');"
      ],
      "metadata": {
        "colab": {
          "base_uri": "https://localhost:8080/",
          "height": 281
        },
        "id": "UM2mFmAZ-1QP",
        "outputId": "15667d27-cedb-46f4-ed35-e7ca5c18a364"
      },
      "execution_count": null,
      "outputs": [
        {
          "output_type": "display_data",
          "data": {
            "text/plain": [
              "<Figure size 432x288 with 1 Axes>"
            ],
            "image/png": "[encoded data removed]"
          },
          "metadata": {
            "needs_background": "light"
          }
        }
      ]
    },
    {
      "cell_type": "markdown",
      "source": [
        "И проверимся на всех обучающих данных.\n",
        "\n",
        "Делаем предсказания на всех тестовых объектах."
      ],
      "metadata": {
        "id": "1c9VSeXarLf_"
      }
    },
    {
      "cell_type": "code",
      "source": [
        "preds = model.predict(X_test_resized)\n",
        "preds"
      ],
      "metadata": {
        "colab": {
          "base_uri": "https://localhost:8080/"
        },
        "outputId": "b62b84a8-d3cc-4a08-a0c6-9eaaf64174b0",
        "id": "HTPb3vKQrLf_"
      },
      "execution_count": null,
      "outputs": [
        {
          "output_type": "execute_result",
          "data": {
            "text/plain": [
              "array([[0.23196417, 0.779374  ],\n",
              "       [0.87699807, 0.13391578],\n",
              "       [0.2039651 , 0.8257028 ],\n",
              "       ...,\n",
              "       [0.23160627, 0.8456099 ],\n",
              "       [0.8840015 , 0.19852799],\n",
              "       [0.19147992, 0.83787894]], dtype=float32)"
            ]
          },
          "metadata": {},
          "execution_count": 238
        }
      ]
    },
    {
      "cell_type": "markdown",
      "source": [
        "И берем метку класса, где максимальная вероятность."
      ],
      "metadata": {
        "id": "thIA48Kd_l5I"
      }
    },
    {
      "cell_type": "code",
      "source": [
        "preds_cls = preds.argmax(axis=1)\n",
        "preds_cls"
      ],
      "metadata": {
        "id": "mhO5qjCJhiH_",
        "colab": {
          "base_uri": "https://localhost:8080/"
        },
        "outputId": "92c28d9a-5396-4dbc-bad2-89fbff4ae073"
      },
      "execution_count": null,
      "outputs": [
        {
          "output_type": "execute_result",
          "data": {
            "text/plain": [
              "array([1, 0, 1, ..., 1, 0, 1])"
            ]
          },
          "metadata": {},
          "execution_count": 240
        }
      ]
    },
    {
      "cell_type": "markdown",
      "source": [
        "И можем посчитать метрику качества."
      ],
      "metadata": {
        "id": "dVhR-hXg_yWN"
      }
    },
    {
      "cell_type": "code",
      "source": [
        "from sklearn.metrics import accuracy_score\n",
        "\n",
        "print(f'test acc: {accuracy_score(y_test, preds_cls)*100:.2f}% ({(y_test == preds_cls).sum()} out of {y_test.shape[0]})')"
      ],
      "metadata": {
        "colab": {
          "base_uri": "https://localhost:8080/"
        },
        "id": "luDjwHTj_3_M",
        "outputId": "3ff9e590-ea92-4b0a-cb28-42551f800e68"
      },
      "execution_count": null,
      "outputs": [
        {
          "output_type": "stream",
          "name": "stdout",
          "text": [
            "test acc: 98.25% (2078 out of 2115)\n"
          ]
        }
      ]
    },
    {
      "cell_type": "markdown",
      "source": [
        "Вот так вот мы и обучили сетку на задачу классификации.\n",
        "\n",
        "А на самом деле уже обучили целых три нейронных сети за одно занятие."
      ],
      "metadata": {
        "id": "symBokEiFukt"
      }
    },
    {
      "cell_type": "markdown",
      "source": [
        "## Практика\n",
        "Практика доступна на платформе boosty https://boosty.to/machine_learrrning/posts/f0bea364-3056-4c84-96d0-5586dea90d72\n",
        "\n",
        "Доступна\n",
        "1. по подписке уровня light+ и выше\n",
        "2. разовая оплата\n"
      ],
      "metadata": {
        "id": "NizN0jCYQojn"
      }
    },
    {
      "cell_type": "markdown",
      "source": [
        "## Summary\n",
        "\n",
        "\n",
        "Вот мы и разобрались, как обучается нейронная сеть с помощью `keras`.\n"
      ],
      "metadata": {
        "id": "cKL1g6ILJiNk"
      }
    },
    {
      "cell_type": "markdown",
      "source": [
        "<img src='https://media.giphy.com/media/G1ifnX4d5tYFACktp9/giphy.gif' width=300>\n",
        "\n",
        "\n",
        "1. Получаем выборку для обучения\n",
        "    - масштабирование данных (*MinMaxScaler, StandardScaler, /255.0*)\n",
        "    - Resize данных при необходимости\n",
        "    - Для классификации нужно перевести метки классов в бинарное представление  "
      ],
      "metadata": {
        "id": "jldOYbCAMv9o"
      }
    },
    {
      "cell_type": "markdown",
      "source": [
        "<img src='https://media.giphy.com/media/Yj6d4OMmDV3bnYtOow/giphy.gif' width=400>\n",
        "\n",
        "2. Создаем архитектуру\n",
        "    - выбираем количество входов\n",
        "    - выбираем количество слоев\n",
        "    - выбираем количество выходных нейронов\n",
        "    - выбираем функцию активации"
      ],
      "metadata": {
        "id": "niS1K8UPMx8L"
      }
    },
    {
      "cell_type": "markdown",
      "source": [
        "<img src='https://media.giphy.com/media/4HrNRdJUZcuJjrjsnY/giphy.gif' width=300>\n",
        "\n",
        "3. Что нужно оптимизировать\n",
        "    - выбор функции потерь\n",
        "    - из стандартных и привычных\n",
        "        - для регрессии - *MSE*\n",
        "        - для классификации - *binary_crossentropy, categorical_crossentropy*\n",
        "4. Как нужно оптимизировать\n",
        "    - выбор оптимизатора\n",
        "    - из стандартных и привычных: *sgd, adam*\n"
      ],
      "metadata": {
        "id": "kNEHLHYjNDtZ"
      }
    },
    {
      "cell_type": "markdown",
      "source": [
        "<img src='https://media.giphy.com/media/7GHKLedJKRIqEFquo7/giphy-downsized-large.gif' width=300>\n",
        "\n",
        "5. Компиляция модели *.compile()*\n"
      ],
      "metadata": {
        "id": "sSXSMryMNHyS"
      }
    },
    {
      "cell_type": "markdown",
      "source": [
        "6. Обучение модели *.fit()*"
      ],
      "metadata": {
        "id": "GlzmUPbLNJHB"
      }
    },
    {
      "cell_type": "markdown",
      "source": [
        "."
      ],
      "metadata": {
        "id": "Mag0xVMAQAXU"
      }
    },
    {
      "cell_type": "markdown",
      "source": [
        "<img src='https://media.giphy.com/media/gEvab1ilmJjA82FaSV/giphy.gif' width=300>\n",
        "\n",
        "7. Проверка результатов"
      ],
      "metadata": {
        "id": "wbynQKEXNKF1"
      }
    },
    {
      "cell_type": "markdown",
      "source": [
        "**Муррр** ♥"
      ],
      "metadata": {
        "id": "vlQTlmerl-KD"
      }
    }
  ]
}